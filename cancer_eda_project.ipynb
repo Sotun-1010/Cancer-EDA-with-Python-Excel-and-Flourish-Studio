{
 "cells": [
  {
   "cell_type": "code",
   "execution_count": 1,
   "id": "703c7be6",
   "metadata": {},
   "outputs": [],
   "source": [
    "import pandas as pd"
   ]
  },
  {
   "cell_type": "code",
   "execution_count": 2,
   "id": "d447ee1b",
   "metadata": {},
   "outputs": [],
   "source": [
    "df = pd.read_csv(\"global_cancer_patients_2015_2024.csv\")"
   ]
  },
  {
   "cell_type": "code",
   "execution_count": 3,
   "id": "358cc6f4",
   "metadata": {},
   "outputs": [
    {
     "data": {
      "application/vnd.microsoft.datawrangler.viewer.v0+json": {
       "columns": [
        {
         "name": "index",
         "rawType": "int64",
         "type": "integer"
        },
        {
         "name": "Patient_ID",
         "rawType": "object",
         "type": "string"
        },
        {
         "name": "Age",
         "rawType": "int64",
         "type": "integer"
        },
        {
         "name": "Gender",
         "rawType": "object",
         "type": "string"
        },
        {
         "name": "Country_Region",
         "rawType": "object",
         "type": "string"
        },
        {
         "name": "Year",
         "rawType": "int64",
         "type": "integer"
        },
        {
         "name": "Genetic_Risk",
         "rawType": "float64",
         "type": "float"
        },
        {
         "name": "Air_Pollution",
         "rawType": "float64",
         "type": "float"
        },
        {
         "name": "Alcohol_Use",
         "rawType": "float64",
         "type": "float"
        },
        {
         "name": "Smoking",
         "rawType": "float64",
         "type": "float"
        },
        {
         "name": "Obesity_Level",
         "rawType": "float64",
         "type": "float"
        },
        {
         "name": "Cancer_Type",
         "rawType": "object",
         "type": "string"
        },
        {
         "name": "Cancer_Stage",
         "rawType": "object",
         "type": "string"
        },
        {
         "name": "Treatment_Cost_USD",
         "rawType": "float64",
         "type": "float"
        },
        {
         "name": "Survival_Years",
         "rawType": "float64",
         "type": "float"
        },
        {
         "name": "Target_Severity_Score",
         "rawType": "float64",
         "type": "float"
        }
       ],
       "ref": "564bc632-857f-4fba-8921-d498d016eeff",
       "rows": [
        [
         "0",
         "PT0000000",
         "71",
         "Male",
         "UK",
         "2021",
         "6.4",
         "2.8",
         "9.5",
         "0.9",
         "8.7",
         "Lung",
         "Stage III",
         "62913.44",
         "5.9",
         "4.92"
        ],
        [
         "1",
         "PT0000001",
         "34",
         "Male",
         "China",
         "2021",
         "1.3",
         "4.5",
         "3.7",
         "3.9",
         "6.3",
         "Leukemia",
         "Stage 0",
         "12573.41",
         "4.7",
         "4.65"
        ],
        [
         "2",
         "PT0000002",
         "80",
         "Male",
         "Pakistan",
         "2023",
         "7.4",
         "7.9",
         "2.4",
         "4.7",
         "0.1",
         "Breast",
         "Stage II",
         "6984.33",
         "7.1",
         "5.84"
        ],
        [
         "3",
         "PT0000003",
         "40",
         "Male",
         "UK",
         "2015",
         "1.7",
         "2.9",
         "4.8",
         "3.5",
         "2.7",
         "Colon",
         "Stage I",
         "67446.25",
         "1.6",
         "3.12"
        ],
        [
         "4",
         "PT0000004",
         "43",
         "Female",
         "Brazil",
         "2017",
         "5.1",
         "2.8",
         "2.3",
         "6.7",
         "0.5",
         "Skin",
         "Stage III",
         "77977.12",
         "2.9",
         "3.62"
        ]
       ],
       "shape": {
        "columns": 15,
        "rows": 5
       }
      },
      "text/html": [
       "<div>\n",
       "<style scoped>\n",
       "    .dataframe tbody tr th:only-of-type {\n",
       "        vertical-align: middle;\n",
       "    }\n",
       "\n",
       "    .dataframe tbody tr th {\n",
       "        vertical-align: top;\n",
       "    }\n",
       "\n",
       "    .dataframe thead th {\n",
       "        text-align: right;\n",
       "    }\n",
       "</style>\n",
       "<table border=\"1\" class=\"dataframe\">\n",
       "  <thead>\n",
       "    <tr style=\"text-align: right;\">\n",
       "      <th></th>\n",
       "      <th>Patient_ID</th>\n",
       "      <th>Age</th>\n",
       "      <th>Gender</th>\n",
       "      <th>Country_Region</th>\n",
       "      <th>Year</th>\n",
       "      <th>Genetic_Risk</th>\n",
       "      <th>Air_Pollution</th>\n",
       "      <th>Alcohol_Use</th>\n",
       "      <th>Smoking</th>\n",
       "      <th>Obesity_Level</th>\n",
       "      <th>Cancer_Type</th>\n",
       "      <th>Cancer_Stage</th>\n",
       "      <th>Treatment_Cost_USD</th>\n",
       "      <th>Survival_Years</th>\n",
       "      <th>Target_Severity_Score</th>\n",
       "    </tr>\n",
       "  </thead>\n",
       "  <tbody>\n",
       "    <tr>\n",
       "      <th>0</th>\n",
       "      <td>PT0000000</td>\n",
       "      <td>71</td>\n",
       "      <td>Male</td>\n",
       "      <td>UK</td>\n",
       "      <td>2021</td>\n",
       "      <td>6.4</td>\n",
       "      <td>2.8</td>\n",
       "      <td>9.5</td>\n",
       "      <td>0.9</td>\n",
       "      <td>8.7</td>\n",
       "      <td>Lung</td>\n",
       "      <td>Stage III</td>\n",
       "      <td>62913.44</td>\n",
       "      <td>5.9</td>\n",
       "      <td>4.92</td>\n",
       "    </tr>\n",
       "    <tr>\n",
       "      <th>1</th>\n",
       "      <td>PT0000001</td>\n",
       "      <td>34</td>\n",
       "      <td>Male</td>\n",
       "      <td>China</td>\n",
       "      <td>2021</td>\n",
       "      <td>1.3</td>\n",
       "      <td>4.5</td>\n",
       "      <td>3.7</td>\n",
       "      <td>3.9</td>\n",
       "      <td>6.3</td>\n",
       "      <td>Leukemia</td>\n",
       "      <td>Stage 0</td>\n",
       "      <td>12573.41</td>\n",
       "      <td>4.7</td>\n",
       "      <td>4.65</td>\n",
       "    </tr>\n",
       "    <tr>\n",
       "      <th>2</th>\n",
       "      <td>PT0000002</td>\n",
       "      <td>80</td>\n",
       "      <td>Male</td>\n",
       "      <td>Pakistan</td>\n",
       "      <td>2023</td>\n",
       "      <td>7.4</td>\n",
       "      <td>7.9</td>\n",
       "      <td>2.4</td>\n",
       "      <td>4.7</td>\n",
       "      <td>0.1</td>\n",
       "      <td>Breast</td>\n",
       "      <td>Stage II</td>\n",
       "      <td>6984.33</td>\n",
       "      <td>7.1</td>\n",
       "      <td>5.84</td>\n",
       "    </tr>\n",
       "    <tr>\n",
       "      <th>3</th>\n",
       "      <td>PT0000003</td>\n",
       "      <td>40</td>\n",
       "      <td>Male</td>\n",
       "      <td>UK</td>\n",
       "      <td>2015</td>\n",
       "      <td>1.7</td>\n",
       "      <td>2.9</td>\n",
       "      <td>4.8</td>\n",
       "      <td>3.5</td>\n",
       "      <td>2.7</td>\n",
       "      <td>Colon</td>\n",
       "      <td>Stage I</td>\n",
       "      <td>67446.25</td>\n",
       "      <td>1.6</td>\n",
       "      <td>3.12</td>\n",
       "    </tr>\n",
       "    <tr>\n",
       "      <th>4</th>\n",
       "      <td>PT0000004</td>\n",
       "      <td>43</td>\n",
       "      <td>Female</td>\n",
       "      <td>Brazil</td>\n",
       "      <td>2017</td>\n",
       "      <td>5.1</td>\n",
       "      <td>2.8</td>\n",
       "      <td>2.3</td>\n",
       "      <td>6.7</td>\n",
       "      <td>0.5</td>\n",
       "      <td>Skin</td>\n",
       "      <td>Stage III</td>\n",
       "      <td>77977.12</td>\n",
       "      <td>2.9</td>\n",
       "      <td>3.62</td>\n",
       "    </tr>\n",
       "  </tbody>\n",
       "</table>\n",
       "</div>"
      ],
      "text/plain": [
       "  Patient_ID  Age  Gender Country_Region  Year  Genetic_Risk  Air_Pollution  \\\n",
       "0  PT0000000   71    Male             UK  2021           6.4            2.8   \n",
       "1  PT0000001   34    Male          China  2021           1.3            4.5   \n",
       "2  PT0000002   80    Male       Pakistan  2023           7.4            7.9   \n",
       "3  PT0000003   40    Male             UK  2015           1.7            2.9   \n",
       "4  PT0000004   43  Female         Brazil  2017           5.1            2.8   \n",
       "\n",
       "   Alcohol_Use  Smoking  Obesity_Level Cancer_Type Cancer_Stage  \\\n",
       "0          9.5      0.9            8.7        Lung    Stage III   \n",
       "1          3.7      3.9            6.3    Leukemia      Stage 0   \n",
       "2          2.4      4.7            0.1      Breast     Stage II   \n",
       "3          4.8      3.5            2.7       Colon      Stage I   \n",
       "4          2.3      6.7            0.5        Skin    Stage III   \n",
       "\n",
       "   Treatment_Cost_USD  Survival_Years  Target_Severity_Score  \n",
       "0            62913.44             5.9                   4.92  \n",
       "1            12573.41             4.7                   4.65  \n",
       "2             6984.33             7.1                   5.84  \n",
       "3            67446.25             1.6                   3.12  \n",
       "4            77977.12             2.9                   3.62  "
      ]
     },
     "execution_count": 3,
     "metadata": {},
     "output_type": "execute_result"
    }
   ],
   "source": [
    "# Display the first few rows of the DataFrame\n",
    "df.head()"
   ]
  },
  {
   "cell_type": "code",
   "execution_count": 4,
   "id": "b1431460",
   "metadata": {},
   "outputs": [
    {
     "name": "stdout",
     "output_type": "stream",
     "text": [
      "<class 'pandas.core.frame.DataFrame'>\n",
      "RangeIndex: 50000 entries, 0 to 49999\n",
      "Data columns (total 15 columns):\n",
      " #   Column                 Non-Null Count  Dtype  \n",
      "---  ------                 --------------  -----  \n",
      " 0   Patient_ID             50000 non-null  object \n",
      " 1   Age                    50000 non-null  int64  \n",
      " 2   Gender                 50000 non-null  object \n",
      " 3   Country_Region         50000 non-null  object \n",
      " 4   Year                   50000 non-null  int64  \n",
      " 5   Genetic_Risk           50000 non-null  float64\n",
      " 6   Air_Pollution          50000 non-null  float64\n",
      " 7   Alcohol_Use            50000 non-null  float64\n",
      " 8   Smoking                50000 non-null  float64\n",
      " 9   Obesity_Level          50000 non-null  float64\n",
      " 10  Cancer_Type            50000 non-null  object \n",
      " 11  Cancer_Stage           50000 non-null  object \n",
      " 12  Treatment_Cost_USD     50000 non-null  float64\n",
      " 13  Survival_Years         50000 non-null  float64\n",
      " 14  Target_Severity_Score  50000 non-null  float64\n",
      "dtypes: float64(8), int64(2), object(5)\n",
      "memory usage: 5.7+ MB\n"
     ]
    }
   ],
   "source": [
    "# null values\n",
    "df.isna().sum()\n",
    "\n",
    "# shape\n",
    "df.shape\n",
    "\n",
    "# column info\n",
    "df.info()"
   ]
  },
  {
   "cell_type": "code",
   "execution_count": 5,
   "id": "f361bee1",
   "metadata": {},
   "outputs": [
    {
     "data": {
      "application/vnd.microsoft.datawrangler.viewer.v0+json": {
       "columns": [
        {
         "name": "index",
         "rawType": "int64",
         "type": "integer"
        },
        {
         "name": "Age",
         "rawType": "int64",
         "type": "integer"
        },
        {
         "name": "Age_Group",
         "rawType": "object",
         "type": "string"
        }
       ],
       "ref": "2f78d32f-7941-4b01-870a-8c3cf5ef813b",
       "rows": [
        [
         "0",
         "71",
         "Above 70"
        ],
        [
         "1",
         "34",
         "30 - 50"
        ],
        [
         "2",
         "80",
         "Above 70"
        ],
        [
         "3",
         "40",
         "30 - 50"
        ],
        [
         "4",
         "43",
         "30 - 50"
        ],
        [
         "5",
         "22",
         "Under 30"
        ],
        [
         "6",
         "41",
         "30 - 50"
        ],
        [
         "7",
         "72",
         "Above 70"
        ],
        [
         "8",
         "21",
         "Under 30"
        ],
        [
         "9",
         "49",
         "30 - 50"
        ],
        [
         "10",
         "57",
         "51 - 70"
        ],
        [
         "11",
         "21",
         "Under 30"
        ],
        [
         "12",
         "83",
         "Above 70"
        ],
        [
         "13",
         "79",
         "Above 70"
        ],
        [
         "14",
         "40",
         "30 - 50"
        ],
        [
         "15",
         "52",
         "51 - 70"
        ],
        [
         "16",
         "77",
         "Above 70"
        ],
        [
         "17",
         "41",
         "30 - 50"
        ],
        [
         "18",
         "68",
         "51 - 70"
        ],
        [
         "19",
         "78",
         "Above 70"
        ],
        [
         "20",
         "61",
         "51 - 70"
        ],
        [
         "21",
         "79",
         "Above 70"
        ],
        [
         "22",
         "34",
         "30 - 50"
        ],
        [
         "23",
         "81",
         "Above 70"
        ],
        [
         "24",
         "81",
         "Above 70"
        ],
        [
         "25",
         "66",
         "51 - 70"
        ],
        [
         "26",
         "81",
         "Above 70"
        ],
        [
         "27",
         "70",
         "51 - 70"
        ],
        [
         "28",
         "74",
         "Above 70"
        ],
        [
         "29",
         "83",
         "Above 70"
        ],
        [
         "30",
         "22",
         "Under 30"
        ],
        [
         "31",
         "70",
         "51 - 70"
        ],
        [
         "32",
         "26",
         "Under 30"
        ],
        [
         "33",
         "40",
         "30 - 50"
        ],
        [
         "34",
         "58",
         "51 - 70"
        ],
        [
         "35",
         "37",
         "30 - 50"
        ],
        [
         "36",
         "23",
         "Under 30"
        ],
        [
         "37",
         "79",
         "Above 70"
        ],
        [
         "38",
         "33",
         "30 - 50"
        ],
        [
         "39",
         "28",
         "Under 30"
        ],
        [
         "40",
         "72",
         "Above 70"
        ],
        [
         "41",
         "21",
         "Under 30"
        ],
        [
         "42",
         "79",
         "Above 70"
        ],
        [
         "43",
         "63",
         "51 - 70"
        ],
        [
         "44",
         "27",
         "Under 30"
        ],
        [
         "45",
         "66",
         "51 - 70"
        ],
        [
         "46",
         "54",
         "51 - 70"
        ],
        [
         "47",
         "55",
         "51 - 70"
        ],
        [
         "48",
         "69",
         "51 - 70"
        ],
        [
         "49",
         "23",
         "Under 30"
        ]
       ],
       "shape": {
        "columns": 2,
        "rows": 50000
       }
      },
      "text/html": [
       "<div>\n",
       "<style scoped>\n",
       "    .dataframe tbody tr th:only-of-type {\n",
       "        vertical-align: middle;\n",
       "    }\n",
       "\n",
       "    .dataframe tbody tr th {\n",
       "        vertical-align: top;\n",
       "    }\n",
       "\n",
       "    .dataframe thead th {\n",
       "        text-align: right;\n",
       "    }\n",
       "</style>\n",
       "<table border=\"1\" class=\"dataframe\">\n",
       "  <thead>\n",
       "    <tr style=\"text-align: right;\">\n",
       "      <th></th>\n",
       "      <th>Age</th>\n",
       "      <th>Age_Group</th>\n",
       "    </tr>\n",
       "  </thead>\n",
       "  <tbody>\n",
       "    <tr>\n",
       "      <th>0</th>\n",
       "      <td>71</td>\n",
       "      <td>Above 70</td>\n",
       "    </tr>\n",
       "    <tr>\n",
       "      <th>1</th>\n",
       "      <td>34</td>\n",
       "      <td>30 - 50</td>\n",
       "    </tr>\n",
       "    <tr>\n",
       "      <th>2</th>\n",
       "      <td>80</td>\n",
       "      <td>Above 70</td>\n",
       "    </tr>\n",
       "    <tr>\n",
       "      <th>3</th>\n",
       "      <td>40</td>\n",
       "      <td>30 - 50</td>\n",
       "    </tr>\n",
       "    <tr>\n",
       "      <th>4</th>\n",
       "      <td>43</td>\n",
       "      <td>30 - 50</td>\n",
       "    </tr>\n",
       "    <tr>\n",
       "      <th>...</th>\n",
       "      <td>...</td>\n",
       "      <td>...</td>\n",
       "    </tr>\n",
       "    <tr>\n",
       "      <th>49995</th>\n",
       "      <td>80</td>\n",
       "      <td>Above 70</td>\n",
       "    </tr>\n",
       "    <tr>\n",
       "      <th>49996</th>\n",
       "      <td>40</td>\n",
       "      <td>30 - 50</td>\n",
       "    </tr>\n",
       "    <tr>\n",
       "      <th>49997</th>\n",
       "      <td>74</td>\n",
       "      <td>Above 70</td>\n",
       "    </tr>\n",
       "    <tr>\n",
       "      <th>49998</th>\n",
       "      <td>21</td>\n",
       "      <td>Under 30</td>\n",
       "    </tr>\n",
       "    <tr>\n",
       "      <th>49999</th>\n",
       "      <td>22</td>\n",
       "      <td>Under 30</td>\n",
       "    </tr>\n",
       "  </tbody>\n",
       "</table>\n",
       "<p>50000 rows × 2 columns</p>\n",
       "</div>"
      ],
      "text/plain": [
       "       Age Age_Group\n",
       "0       71  Above 70\n",
       "1       34   30 - 50\n",
       "2       80  Above 70\n",
       "3       40   30 - 50\n",
       "4       43   30 - 50\n",
       "...    ...       ...\n",
       "49995   80  Above 70\n",
       "49996   40   30 - 50\n",
       "49997   74  Above 70\n",
       "49998   21  Under 30\n",
       "49999   22  Under 30\n",
       "\n",
       "[50000 rows x 2 columns]"
      ]
     },
     "execution_count": 5,
     "metadata": {},
     "output_type": "execute_result"
    }
   ],
   "source": [
    "def categorize_age(age):\n",
    "    if 0 <= age < 30:\n",
    "        return 'Under 30'\n",
    "    elif 30 <= age <= 50:\n",
    "        return '30 - 50'\n",
    "    elif 51 <= age <= 70:\n",
    "        return '51 - 70'\n",
    "    else:\n",
    "        return 'Above 70'\n",
    "\n",
    "df['Age_Group'] = df['Age'].apply(categorize_age)\n",
    "df[[\"Age\", \"Age_Group\"]]"
   ]
  },
  {
   "cell_type": "code",
   "execution_count": 6,
   "id": "09a8531e",
   "metadata": {},
   "outputs": [
    {
     "data": {
      "application/vnd.microsoft.datawrangler.viewer.v0+json": {
       "columns": [
        {
         "name": "index",
         "rawType": "int64",
         "type": "integer"
        },
        {
         "name": "Country_Region",
         "rawType": "object",
         "type": "string"
        },
        {
         "name": "Count",
         "rawType": "int64",
         "type": "integer"
        }
       ],
       "ref": "7b2a3a77-8cab-4827-87bb-e7a53043c71b",
       "rows": [
        [
         "0",
         "Australia",
         "5092"
        ],
        [
         "1",
         "Brazil",
         "5004"
        ],
        [
         "2",
         "Canada",
         "4864"
        ],
        [
         "3",
         "China",
         "4913"
        ],
        [
         "4",
         "Germany",
         "5024"
        ],
        [
         "5",
         "India",
         "5040"
        ],
        [
         "6",
         "Pakistan",
         "4926"
        ],
        [
         "7",
         "Russia",
         "5017"
        ],
        [
         "8",
         "UK",
         "5060"
        ],
        [
         "9",
         "USA",
         "5060"
        ]
       ],
       "shape": {
        "columns": 2,
        "rows": 10
       }
      },
      "text/html": [
       "<div>\n",
       "<style scoped>\n",
       "    .dataframe tbody tr th:only-of-type {\n",
       "        vertical-align: middle;\n",
       "    }\n",
       "\n",
       "    .dataframe tbody tr th {\n",
       "        vertical-align: top;\n",
       "    }\n",
       "\n",
       "    .dataframe thead th {\n",
       "        text-align: right;\n",
       "    }\n",
       "</style>\n",
       "<table border=\"1\" class=\"dataframe\">\n",
       "  <thead>\n",
       "    <tr style=\"text-align: right;\">\n",
       "      <th></th>\n",
       "      <th>Country_Region</th>\n",
       "      <th>Count</th>\n",
       "    </tr>\n",
       "  </thead>\n",
       "  <tbody>\n",
       "    <tr>\n",
       "      <th>0</th>\n",
       "      <td>Australia</td>\n",
       "      <td>5092</td>\n",
       "    </tr>\n",
       "    <tr>\n",
       "      <th>1</th>\n",
       "      <td>Brazil</td>\n",
       "      <td>5004</td>\n",
       "    </tr>\n",
       "    <tr>\n",
       "      <th>2</th>\n",
       "      <td>Canada</td>\n",
       "      <td>4864</td>\n",
       "    </tr>\n",
       "    <tr>\n",
       "      <th>3</th>\n",
       "      <td>China</td>\n",
       "      <td>4913</td>\n",
       "    </tr>\n",
       "    <tr>\n",
       "      <th>4</th>\n",
       "      <td>Germany</td>\n",
       "      <td>5024</td>\n",
       "    </tr>\n",
       "    <tr>\n",
       "      <th>5</th>\n",
       "      <td>India</td>\n",
       "      <td>5040</td>\n",
       "    </tr>\n",
       "    <tr>\n",
       "      <th>6</th>\n",
       "      <td>Pakistan</td>\n",
       "      <td>4926</td>\n",
       "    </tr>\n",
       "    <tr>\n",
       "      <th>7</th>\n",
       "      <td>Russia</td>\n",
       "      <td>5017</td>\n",
       "    </tr>\n",
       "    <tr>\n",
       "      <th>8</th>\n",
       "      <td>UK</td>\n",
       "      <td>5060</td>\n",
       "    </tr>\n",
       "    <tr>\n",
       "      <th>9</th>\n",
       "      <td>USA</td>\n",
       "      <td>5060</td>\n",
       "    </tr>\n",
       "  </tbody>\n",
       "</table>\n",
       "</div>"
      ],
      "text/plain": [
       "  Country_Region  Count\n",
       "0      Australia   5092\n",
       "1         Brazil   5004\n",
       "2         Canada   4864\n",
       "3          China   4913\n",
       "4        Germany   5024\n",
       "5          India   5040\n",
       "6       Pakistan   4926\n",
       "7         Russia   5017\n",
       "8             UK   5060\n",
       "9            USA   5060"
      ]
     },
     "execution_count": 6,
     "metadata": {},
     "output_type": "execute_result"
    }
   ],
   "source": [
    "# Total cases per country\n",
    "case_per_country = (\n",
    "    df.groupby('Country_Region')[\"Patient_ID\"]\n",
    "    .count().rename(\"Count\").reset_index()\n",
    ")\n",
    "\n",
    "case_per_country"
   ]
  },
  {
   "cell_type": "code",
   "execution_count": 7,
   "id": "ebd83363",
   "metadata": {},
   "outputs": [
    {
     "data": {
      "application/vnd.microsoft.datawrangler.viewer.v0+json": {
       "columns": [
        {
         "name": "index",
         "rawType": "int64",
         "type": "integer"
        },
        {
         "name": "Patient_ID",
         "rawType": "object",
         "type": "string"
        },
        {
         "name": "Age",
         "rawType": "int64",
         "type": "integer"
        },
        {
         "name": "Gender",
         "rawType": "object",
         "type": "string"
        },
        {
         "name": "Country_Region",
         "rawType": "object",
         "type": "string"
        },
        {
         "name": "Year",
         "rawType": "int64",
         "type": "integer"
        },
        {
         "name": "Genetic_Risk",
         "rawType": "float64",
         "type": "float"
        },
        {
         "name": "Air_Pollution",
         "rawType": "float64",
         "type": "float"
        },
        {
         "name": "Alcohol_Use",
         "rawType": "float64",
         "type": "float"
        },
        {
         "name": "Smoking",
         "rawType": "float64",
         "type": "float"
        },
        {
         "name": "Obesity_Level",
         "rawType": "float64",
         "type": "float"
        },
        {
         "name": "Cancer_Type",
         "rawType": "object",
         "type": "string"
        },
        {
         "name": "Cancer_Stage",
         "rawType": "object",
         "type": "string"
        },
        {
         "name": "Treatment_Cost_USD",
         "rawType": "float64",
         "type": "float"
        },
        {
         "name": "Survival_Years",
         "rawType": "float64",
         "type": "float"
        },
        {
         "name": "Target_Severity_Score",
         "rawType": "float64",
         "type": "float"
        },
        {
         "name": "Age_Group",
         "rawType": "object",
         "type": "string"
        }
       ],
       "ref": "1348b90a-bae1-4ff3-92d4-50e17065c51d",
       "rows": [
        [
         "0",
         "PT0000000",
         "71",
         "Male",
         "UK",
         "2021",
         "6.4",
         "2.8",
         "9.5",
         "0.9",
         "8.7",
         "Lung",
         "Stage III",
         "62913.44",
         "5.9",
         "4.92",
         "Above 70"
        ],
        [
         "1",
         "PT0000001",
         "34",
         "Male",
         "China",
         "2021",
         "1.3",
         "4.5",
         "3.7",
         "3.9",
         "6.3",
         "Leukemia",
         "Stage 0",
         "12573.41",
         "4.7",
         "4.65",
         "30 - 50"
        ],
        [
         "2",
         "PT0000002",
         "80",
         "Male",
         "Pakistan",
         "2023",
         "7.4",
         "7.9",
         "2.4",
         "4.7",
         "0.1",
         "Breast",
         "Stage II",
         "6984.33",
         "7.1",
         "5.84",
         "Above 70"
        ],
        [
         "3",
         "PT0000003",
         "40",
         "Male",
         "UK",
         "2015",
         "1.7",
         "2.9",
         "4.8",
         "3.5",
         "2.7",
         "Colon",
         "Stage I",
         "67446.25",
         "1.6",
         "3.12",
         "30 - 50"
        ],
        [
         "4",
         "PT0000004",
         "43",
         "Female",
         "Brazil",
         "2017",
         "5.1",
         "2.8",
         "2.3",
         "6.7",
         "0.5",
         "Skin",
         "Stage III",
         "77977.12",
         "2.9",
         "3.62",
         "30 - 50"
        ]
       ],
       "shape": {
        "columns": 16,
        "rows": 5
       }
      },
      "text/html": [
       "<div>\n",
       "<style scoped>\n",
       "    .dataframe tbody tr th:only-of-type {\n",
       "        vertical-align: middle;\n",
       "    }\n",
       "\n",
       "    .dataframe tbody tr th {\n",
       "        vertical-align: top;\n",
       "    }\n",
       "\n",
       "    .dataframe thead th {\n",
       "        text-align: right;\n",
       "    }\n",
       "</style>\n",
       "<table border=\"1\" class=\"dataframe\">\n",
       "  <thead>\n",
       "    <tr style=\"text-align: right;\">\n",
       "      <th></th>\n",
       "      <th>Patient_ID</th>\n",
       "      <th>Age</th>\n",
       "      <th>Gender</th>\n",
       "      <th>Country_Region</th>\n",
       "      <th>Year</th>\n",
       "      <th>Genetic_Risk</th>\n",
       "      <th>Air_Pollution</th>\n",
       "      <th>Alcohol_Use</th>\n",
       "      <th>Smoking</th>\n",
       "      <th>Obesity_Level</th>\n",
       "      <th>Cancer_Type</th>\n",
       "      <th>Cancer_Stage</th>\n",
       "      <th>Treatment_Cost_USD</th>\n",
       "      <th>Survival_Years</th>\n",
       "      <th>Target_Severity_Score</th>\n",
       "      <th>Age_Group</th>\n",
       "    </tr>\n",
       "  </thead>\n",
       "  <tbody>\n",
       "    <tr>\n",
       "      <th>0</th>\n",
       "      <td>PT0000000</td>\n",
       "      <td>71</td>\n",
       "      <td>Male</td>\n",
       "      <td>UK</td>\n",
       "      <td>2021</td>\n",
       "      <td>6.4</td>\n",
       "      <td>2.8</td>\n",
       "      <td>9.5</td>\n",
       "      <td>0.9</td>\n",
       "      <td>8.7</td>\n",
       "      <td>Lung</td>\n",
       "      <td>Stage III</td>\n",
       "      <td>62913.44</td>\n",
       "      <td>5.9</td>\n",
       "      <td>4.92</td>\n",
       "      <td>Above 70</td>\n",
       "    </tr>\n",
       "    <tr>\n",
       "      <th>1</th>\n",
       "      <td>PT0000001</td>\n",
       "      <td>34</td>\n",
       "      <td>Male</td>\n",
       "      <td>China</td>\n",
       "      <td>2021</td>\n",
       "      <td>1.3</td>\n",
       "      <td>4.5</td>\n",
       "      <td>3.7</td>\n",
       "      <td>3.9</td>\n",
       "      <td>6.3</td>\n",
       "      <td>Leukemia</td>\n",
       "      <td>Stage 0</td>\n",
       "      <td>12573.41</td>\n",
       "      <td>4.7</td>\n",
       "      <td>4.65</td>\n",
       "      <td>30 - 50</td>\n",
       "    </tr>\n",
       "    <tr>\n",
       "      <th>2</th>\n",
       "      <td>PT0000002</td>\n",
       "      <td>80</td>\n",
       "      <td>Male</td>\n",
       "      <td>Pakistan</td>\n",
       "      <td>2023</td>\n",
       "      <td>7.4</td>\n",
       "      <td>7.9</td>\n",
       "      <td>2.4</td>\n",
       "      <td>4.7</td>\n",
       "      <td>0.1</td>\n",
       "      <td>Breast</td>\n",
       "      <td>Stage II</td>\n",
       "      <td>6984.33</td>\n",
       "      <td>7.1</td>\n",
       "      <td>5.84</td>\n",
       "      <td>Above 70</td>\n",
       "    </tr>\n",
       "    <tr>\n",
       "      <th>3</th>\n",
       "      <td>PT0000003</td>\n",
       "      <td>40</td>\n",
       "      <td>Male</td>\n",
       "      <td>UK</td>\n",
       "      <td>2015</td>\n",
       "      <td>1.7</td>\n",
       "      <td>2.9</td>\n",
       "      <td>4.8</td>\n",
       "      <td>3.5</td>\n",
       "      <td>2.7</td>\n",
       "      <td>Colon</td>\n",
       "      <td>Stage I</td>\n",
       "      <td>67446.25</td>\n",
       "      <td>1.6</td>\n",
       "      <td>3.12</td>\n",
       "      <td>30 - 50</td>\n",
       "    </tr>\n",
       "    <tr>\n",
       "      <th>4</th>\n",
       "      <td>PT0000004</td>\n",
       "      <td>43</td>\n",
       "      <td>Female</td>\n",
       "      <td>Brazil</td>\n",
       "      <td>2017</td>\n",
       "      <td>5.1</td>\n",
       "      <td>2.8</td>\n",
       "      <td>2.3</td>\n",
       "      <td>6.7</td>\n",
       "      <td>0.5</td>\n",
       "      <td>Skin</td>\n",
       "      <td>Stage III</td>\n",
       "      <td>77977.12</td>\n",
       "      <td>2.9</td>\n",
       "      <td>3.62</td>\n",
       "      <td>30 - 50</td>\n",
       "    </tr>\n",
       "  </tbody>\n",
       "</table>\n",
       "</div>"
      ],
      "text/plain": [
       "  Patient_ID  Age  Gender Country_Region  Year  Genetic_Risk  Air_Pollution  \\\n",
       "0  PT0000000   71    Male             UK  2021           6.4            2.8   \n",
       "1  PT0000001   34    Male          China  2021           1.3            4.5   \n",
       "2  PT0000002   80    Male       Pakistan  2023           7.4            7.9   \n",
       "3  PT0000003   40    Male             UK  2015           1.7            2.9   \n",
       "4  PT0000004   43  Female         Brazil  2017           5.1            2.8   \n",
       "\n",
       "   Alcohol_Use  Smoking  Obesity_Level Cancer_Type Cancer_Stage  \\\n",
       "0          9.5      0.9            8.7        Lung    Stage III   \n",
       "1          3.7      3.9            6.3    Leukemia      Stage 0   \n",
       "2          2.4      4.7            0.1      Breast     Stage II   \n",
       "3          4.8      3.5            2.7       Colon      Stage I   \n",
       "4          2.3      6.7            0.5        Skin    Stage III   \n",
       "\n",
       "   Treatment_Cost_USD  Survival_Years  Target_Severity_Score Age_Group  \n",
       "0            62913.44             5.9                   4.92  Above 70  \n",
       "1            12573.41             4.7                   4.65   30 - 50  \n",
       "2             6984.33             7.1                   5.84  Above 70  \n",
       "3            67446.25             1.6                   3.12   30 - 50  \n",
       "4            77977.12             2.9                   3.62   30 - 50  "
      ]
     },
     "execution_count": 7,
     "metadata": {},
     "output_type": "execute_result"
    }
   ],
   "source": [
    "df.head()"
   ]
  },
  {
   "cell_type": "code",
   "execution_count": 8,
   "id": "62ef19c2",
   "metadata": {},
   "outputs": [
    {
     "data": {
      "application/vnd.microsoft.datawrangler.viewer.v0+json": {
       "columns": [
        {
         "name": "Country_Region",
         "rawType": "object",
         "type": "string"
        },
        {
         "name": "Female",
         "rawType": "int64",
         "type": "integer"
        },
        {
         "name": "Male",
         "rawType": "int64",
         "type": "integer"
        },
        {
         "name": "Other",
         "rawType": "int64",
         "type": "integer"
        }
       ],
       "ref": "ad1fb966-07d5-4580-84f8-7938a348551f",
       "rows": [
        [
         "Australia",
         "1713",
         "1741",
         "1638"
        ],
        [
         "Brazil",
         "1645",
         "1708",
         "1651"
        ],
        [
         "Canada",
         "1667",
         "1585",
         "1612"
        ],
        [
         "China",
         "1607",
         "1698",
         "1608"
        ],
        [
         "Germany",
         "1666",
         "1675",
         "1683"
        ],
        [
         "India",
         "1693",
         "1664",
         "1683"
        ],
        [
         "Pakistan",
         "1652",
         "1658",
         "1616"
        ],
        [
         "Russia",
         "1688",
         "1657",
         "1672"
        ],
        [
         "UK",
         "1684",
         "1727",
         "1649"
        ],
        [
         "USA",
         "1694",
         "1683",
         "1683"
        ]
       ],
       "shape": {
        "columns": 3,
        "rows": 10
       }
      },
      "text/html": [
       "<div>\n",
       "<style scoped>\n",
       "    .dataframe tbody tr th:only-of-type {\n",
       "        vertical-align: middle;\n",
       "    }\n",
       "\n",
       "    .dataframe tbody tr th {\n",
       "        vertical-align: top;\n",
       "    }\n",
       "\n",
       "    .dataframe thead th {\n",
       "        text-align: right;\n",
       "    }\n",
       "</style>\n",
       "<table border=\"1\" class=\"dataframe\">\n",
       "  <thead>\n",
       "    <tr style=\"text-align: right;\">\n",
       "      <th>Gender</th>\n",
       "      <th>Female</th>\n",
       "      <th>Male</th>\n",
       "      <th>Other</th>\n",
       "    </tr>\n",
       "    <tr>\n",
       "      <th>Country_Region</th>\n",
       "      <th></th>\n",
       "      <th></th>\n",
       "      <th></th>\n",
       "    </tr>\n",
       "  </thead>\n",
       "  <tbody>\n",
       "    <tr>\n",
       "      <th>Australia</th>\n",
       "      <td>1713</td>\n",
       "      <td>1741</td>\n",
       "      <td>1638</td>\n",
       "    </tr>\n",
       "    <tr>\n",
       "      <th>Brazil</th>\n",
       "      <td>1645</td>\n",
       "      <td>1708</td>\n",
       "      <td>1651</td>\n",
       "    </tr>\n",
       "    <tr>\n",
       "      <th>Canada</th>\n",
       "      <td>1667</td>\n",
       "      <td>1585</td>\n",
       "      <td>1612</td>\n",
       "    </tr>\n",
       "    <tr>\n",
       "      <th>China</th>\n",
       "      <td>1607</td>\n",
       "      <td>1698</td>\n",
       "      <td>1608</td>\n",
       "    </tr>\n",
       "    <tr>\n",
       "      <th>Germany</th>\n",
       "      <td>1666</td>\n",
       "      <td>1675</td>\n",
       "      <td>1683</td>\n",
       "    </tr>\n",
       "    <tr>\n",
       "      <th>India</th>\n",
       "      <td>1693</td>\n",
       "      <td>1664</td>\n",
       "      <td>1683</td>\n",
       "    </tr>\n",
       "    <tr>\n",
       "      <th>Pakistan</th>\n",
       "      <td>1652</td>\n",
       "      <td>1658</td>\n",
       "      <td>1616</td>\n",
       "    </tr>\n",
       "    <tr>\n",
       "      <th>Russia</th>\n",
       "      <td>1688</td>\n",
       "      <td>1657</td>\n",
       "      <td>1672</td>\n",
       "    </tr>\n",
       "    <tr>\n",
       "      <th>UK</th>\n",
       "      <td>1684</td>\n",
       "      <td>1727</td>\n",
       "      <td>1649</td>\n",
       "    </tr>\n",
       "    <tr>\n",
       "      <th>USA</th>\n",
       "      <td>1694</td>\n",
       "      <td>1683</td>\n",
       "      <td>1683</td>\n",
       "    </tr>\n",
       "  </tbody>\n",
       "</table>\n",
       "</div>"
      ],
      "text/plain": [
       "Gender          Female  Male  Other\n",
       "Country_Region                     \n",
       "Australia         1713  1741   1638\n",
       "Brazil            1645  1708   1651\n",
       "Canada            1667  1585   1612\n",
       "China             1607  1698   1608\n",
       "Germany           1666  1675   1683\n",
       "India             1693  1664   1683\n",
       "Pakistan          1652  1658   1616\n",
       "Russia            1688  1657   1672\n",
       "UK                1684  1727   1649\n",
       "USA               1694  1683   1683"
      ]
     },
     "execution_count": 8,
     "metadata": {},
     "output_type": "execute_result"
    }
   ],
   "source": [
    "# Gender\n",
    "country_case_by_gender = (\n",
    "    df.groupby('Country_Region')[\"Gender\"]\n",
    "    .value_counts().unstack(fill_value=0)\n",
    ")\n",
    "country_case_by_gender"
   ]
  },
  {
   "cell_type": "code",
   "execution_count": 9,
   "id": "c6523b8b",
   "metadata": {},
   "outputs": [
    {
     "data": {
      "application/vnd.microsoft.datawrangler.viewer.v0+json": {
       "columns": [
        {
         "name": "Country_Region",
         "rawType": "object",
         "type": "string"
        },
        {
         "name": "30 - 50",
         "rawType": "int64",
         "type": "integer"
        },
        {
         "name": "51 - 70",
         "rawType": "int64",
         "type": "integer"
        },
        {
         "name": "Above 70",
         "rawType": "int64",
         "type": "integer"
        },
        {
         "name": "Under 30",
         "rawType": "int64",
         "type": "integer"
        }
       ],
       "ref": "921b4c3d-a3dd-4ed4-901c-d9514361c5d9",
       "rows": [
        [
         "Australia",
         "1569",
         "1343",
         "1387",
         "793"
        ],
        [
         "Brazil",
         "1507",
         "1423",
         "1347",
         "727"
        ],
        [
         "Canada",
         "1508",
         "1400",
         "1283",
         "673"
        ],
        [
         "China",
         "1468",
         "1412",
         "1301",
         "732"
        ],
        [
         "Germany",
         "1453",
         "1394",
         "1440",
         "737"
        ],
        [
         "India",
         "1487",
         "1454",
         "1396",
         "703"
        ],
        [
         "Pakistan",
         "1450",
         "1432",
         "1334",
         "710"
        ],
        [
         "Russia",
         "1517",
         "1426",
         "1361",
         "713"
        ],
        [
         "UK",
         "1559",
         "1422",
         "1383",
         "696"
        ],
        [
         "USA",
         "1583",
         "1410",
         "1360",
         "707"
        ]
       ],
       "shape": {
        "columns": 4,
        "rows": 10
       }
      },
      "text/html": [
       "<div>\n",
       "<style scoped>\n",
       "    .dataframe tbody tr th:only-of-type {\n",
       "        vertical-align: middle;\n",
       "    }\n",
       "\n",
       "    .dataframe tbody tr th {\n",
       "        vertical-align: top;\n",
       "    }\n",
       "\n",
       "    .dataframe thead th {\n",
       "        text-align: right;\n",
       "    }\n",
       "</style>\n",
       "<table border=\"1\" class=\"dataframe\">\n",
       "  <thead>\n",
       "    <tr style=\"text-align: right;\">\n",
       "      <th>Age_Group</th>\n",
       "      <th>30 - 50</th>\n",
       "      <th>51 - 70</th>\n",
       "      <th>Above 70</th>\n",
       "      <th>Under 30</th>\n",
       "    </tr>\n",
       "    <tr>\n",
       "      <th>Country_Region</th>\n",
       "      <th></th>\n",
       "      <th></th>\n",
       "      <th></th>\n",
       "      <th></th>\n",
       "    </tr>\n",
       "  </thead>\n",
       "  <tbody>\n",
       "    <tr>\n",
       "      <th>Australia</th>\n",
       "      <td>1569</td>\n",
       "      <td>1343</td>\n",
       "      <td>1387</td>\n",
       "      <td>793</td>\n",
       "    </tr>\n",
       "    <tr>\n",
       "      <th>Brazil</th>\n",
       "      <td>1507</td>\n",
       "      <td>1423</td>\n",
       "      <td>1347</td>\n",
       "      <td>727</td>\n",
       "    </tr>\n",
       "    <tr>\n",
       "      <th>Canada</th>\n",
       "      <td>1508</td>\n",
       "      <td>1400</td>\n",
       "      <td>1283</td>\n",
       "      <td>673</td>\n",
       "    </tr>\n",
       "    <tr>\n",
       "      <th>China</th>\n",
       "      <td>1468</td>\n",
       "      <td>1412</td>\n",
       "      <td>1301</td>\n",
       "      <td>732</td>\n",
       "    </tr>\n",
       "    <tr>\n",
       "      <th>Germany</th>\n",
       "      <td>1453</td>\n",
       "      <td>1394</td>\n",
       "      <td>1440</td>\n",
       "      <td>737</td>\n",
       "    </tr>\n",
       "    <tr>\n",
       "      <th>India</th>\n",
       "      <td>1487</td>\n",
       "      <td>1454</td>\n",
       "      <td>1396</td>\n",
       "      <td>703</td>\n",
       "    </tr>\n",
       "    <tr>\n",
       "      <th>Pakistan</th>\n",
       "      <td>1450</td>\n",
       "      <td>1432</td>\n",
       "      <td>1334</td>\n",
       "      <td>710</td>\n",
       "    </tr>\n",
       "    <tr>\n",
       "      <th>Russia</th>\n",
       "      <td>1517</td>\n",
       "      <td>1426</td>\n",
       "      <td>1361</td>\n",
       "      <td>713</td>\n",
       "    </tr>\n",
       "    <tr>\n",
       "      <th>UK</th>\n",
       "      <td>1559</td>\n",
       "      <td>1422</td>\n",
       "      <td>1383</td>\n",
       "      <td>696</td>\n",
       "    </tr>\n",
       "    <tr>\n",
       "      <th>USA</th>\n",
       "      <td>1583</td>\n",
       "      <td>1410</td>\n",
       "      <td>1360</td>\n",
       "      <td>707</td>\n",
       "    </tr>\n",
       "  </tbody>\n",
       "</table>\n",
       "</div>"
      ],
      "text/plain": [
       "Age_Group       30 - 50  51 - 70  Above 70  Under 30\n",
       "Country_Region                                      \n",
       "Australia          1569     1343      1387       793\n",
       "Brazil             1507     1423      1347       727\n",
       "Canada             1508     1400      1283       673\n",
       "China              1468     1412      1301       732\n",
       "Germany            1453     1394      1440       737\n",
       "India              1487     1454      1396       703\n",
       "Pakistan           1450     1432      1334       710\n",
       "Russia             1517     1426      1361       713\n",
       "UK                 1559     1422      1383       696\n",
       "USA                1583     1410      1360       707"
      ]
     },
     "execution_count": 9,
     "metadata": {},
     "output_type": "execute_result"
    }
   ],
   "source": [
    "# Age Group\n",
    "country_case_by_ag = (\n",
    "    df.groupby('Country_Region')[\"Age_Group\"]\n",
    "    .value_counts().unstack(fill_value=0)\n",
    ")\n",
    "country_case_by_ag"
   ]
  },
  {
   "cell_type": "code",
   "execution_count": 10,
   "id": "c0a2b465",
   "metadata": {},
   "outputs": [
    {
     "data": {
      "application/vnd.microsoft.datawrangler.viewer.v0+json": {
       "columns": [
        {
         "name": "index",
         "rawType": "int64",
         "type": "integer"
        },
        {
         "name": "Country_Region",
         "rawType": "object",
         "type": "string"
        },
        {
         "name": "Breast",
         "rawType": "int64",
         "type": "integer"
        },
        {
         "name": "Cervical",
         "rawType": "int64",
         "type": "integer"
        },
        {
         "name": "Colon",
         "rawType": "int64",
         "type": "integer"
        },
        {
         "name": "Leukemia",
         "rawType": "int64",
         "type": "integer"
        },
        {
         "name": "Liver",
         "rawType": "int64",
         "type": "integer"
        },
        {
         "name": "Lung",
         "rawType": "int64",
         "type": "integer"
        },
        {
         "name": "Prostate",
         "rawType": "int64",
         "type": "integer"
        },
        {
         "name": "Skin",
         "rawType": "int64",
         "type": "integer"
        }
       ],
       "ref": "d2f1d8d0-8d17-4799-b815-ba8707c20450",
       "rows": [
        [
         "0",
         "Australia",
         "653",
         "632",
         "632",
         "609",
         "670",
         "645",
         "614",
         "637"
        ],
        [
         "1",
         "Brazil",
         "597",
         "622",
         "623",
         "619",
         "627",
         "626",
         "619",
         "671"
        ],
        [
         "2",
         "Canada",
         "581",
         "636",
         "629",
         "636",
         "562",
         "625",
         "581",
         "614"
        ],
        [
         "3",
         "China",
         "615",
         "643",
         "620",
         "590",
         "593",
         "609",
         "619",
         "624"
        ],
        [
         "4",
         "Germany",
         "625",
         "596",
         "626",
         "679",
         "624",
         "657",
         "627",
         "590"
        ],
        [
         "5",
         "India",
         "640",
         "637",
         "633",
         "577",
         "671",
         "607",
         "639",
         "636"
        ],
        [
         "6",
         "Pakistan",
         "604",
         "608",
         "697",
         "612",
         "611",
         "574",
         "608",
         "612"
        ],
        [
         "7",
         "Russia",
         "628",
         "593",
         "645",
         "662",
         "642",
         "584",
         "663",
         "600"
        ],
        [
         "8",
         "UK",
         "606",
         "658",
         "621",
         "640",
         "621",
         "624",
         "685",
         "605"
        ],
        [
         "9",
         "USA",
         "640",
         "597",
         "650",
         "642",
         "628",
         "608",
         "653",
         "642"
        ]
       ],
       "shape": {
        "columns": 9,
        "rows": 10
       }
      },
      "text/html": [
       "<div>\n",
       "<style scoped>\n",
       "    .dataframe tbody tr th:only-of-type {\n",
       "        vertical-align: middle;\n",
       "    }\n",
       "\n",
       "    .dataframe tbody tr th {\n",
       "        vertical-align: top;\n",
       "    }\n",
       "\n",
       "    .dataframe thead th {\n",
       "        text-align: right;\n",
       "    }\n",
       "</style>\n",
       "<table border=\"1\" class=\"dataframe\">\n",
       "  <thead>\n",
       "    <tr style=\"text-align: right;\">\n",
       "      <th>Cancer_Type</th>\n",
       "      <th>Country_Region</th>\n",
       "      <th>Breast</th>\n",
       "      <th>Cervical</th>\n",
       "      <th>Colon</th>\n",
       "      <th>Leukemia</th>\n",
       "      <th>Liver</th>\n",
       "      <th>Lung</th>\n",
       "      <th>Prostate</th>\n",
       "      <th>Skin</th>\n",
       "    </tr>\n",
       "  </thead>\n",
       "  <tbody>\n",
       "    <tr>\n",
       "      <th>0</th>\n",
       "      <td>Australia</td>\n",
       "      <td>653</td>\n",
       "      <td>632</td>\n",
       "      <td>632</td>\n",
       "      <td>609</td>\n",
       "      <td>670</td>\n",
       "      <td>645</td>\n",
       "      <td>614</td>\n",
       "      <td>637</td>\n",
       "    </tr>\n",
       "    <tr>\n",
       "      <th>1</th>\n",
       "      <td>Brazil</td>\n",
       "      <td>597</td>\n",
       "      <td>622</td>\n",
       "      <td>623</td>\n",
       "      <td>619</td>\n",
       "      <td>627</td>\n",
       "      <td>626</td>\n",
       "      <td>619</td>\n",
       "      <td>671</td>\n",
       "    </tr>\n",
       "    <tr>\n",
       "      <th>2</th>\n",
       "      <td>Canada</td>\n",
       "      <td>581</td>\n",
       "      <td>636</td>\n",
       "      <td>629</td>\n",
       "      <td>636</td>\n",
       "      <td>562</td>\n",
       "      <td>625</td>\n",
       "      <td>581</td>\n",
       "      <td>614</td>\n",
       "    </tr>\n",
       "    <tr>\n",
       "      <th>3</th>\n",
       "      <td>China</td>\n",
       "      <td>615</td>\n",
       "      <td>643</td>\n",
       "      <td>620</td>\n",
       "      <td>590</td>\n",
       "      <td>593</td>\n",
       "      <td>609</td>\n",
       "      <td>619</td>\n",
       "      <td>624</td>\n",
       "    </tr>\n",
       "    <tr>\n",
       "      <th>4</th>\n",
       "      <td>Germany</td>\n",
       "      <td>625</td>\n",
       "      <td>596</td>\n",
       "      <td>626</td>\n",
       "      <td>679</td>\n",
       "      <td>624</td>\n",
       "      <td>657</td>\n",
       "      <td>627</td>\n",
       "      <td>590</td>\n",
       "    </tr>\n",
       "    <tr>\n",
       "      <th>5</th>\n",
       "      <td>India</td>\n",
       "      <td>640</td>\n",
       "      <td>637</td>\n",
       "      <td>633</td>\n",
       "      <td>577</td>\n",
       "      <td>671</td>\n",
       "      <td>607</td>\n",
       "      <td>639</td>\n",
       "      <td>636</td>\n",
       "    </tr>\n",
       "    <tr>\n",
       "      <th>6</th>\n",
       "      <td>Pakistan</td>\n",
       "      <td>604</td>\n",
       "      <td>608</td>\n",
       "      <td>697</td>\n",
       "      <td>612</td>\n",
       "      <td>611</td>\n",
       "      <td>574</td>\n",
       "      <td>608</td>\n",
       "      <td>612</td>\n",
       "    </tr>\n",
       "    <tr>\n",
       "      <th>7</th>\n",
       "      <td>Russia</td>\n",
       "      <td>628</td>\n",
       "      <td>593</td>\n",
       "      <td>645</td>\n",
       "      <td>662</td>\n",
       "      <td>642</td>\n",
       "      <td>584</td>\n",
       "      <td>663</td>\n",
       "      <td>600</td>\n",
       "    </tr>\n",
       "    <tr>\n",
       "      <th>8</th>\n",
       "      <td>UK</td>\n",
       "      <td>606</td>\n",
       "      <td>658</td>\n",
       "      <td>621</td>\n",
       "      <td>640</td>\n",
       "      <td>621</td>\n",
       "      <td>624</td>\n",
       "      <td>685</td>\n",
       "      <td>605</td>\n",
       "    </tr>\n",
       "    <tr>\n",
       "      <th>9</th>\n",
       "      <td>USA</td>\n",
       "      <td>640</td>\n",
       "      <td>597</td>\n",
       "      <td>650</td>\n",
       "      <td>642</td>\n",
       "      <td>628</td>\n",
       "      <td>608</td>\n",
       "      <td>653</td>\n",
       "      <td>642</td>\n",
       "    </tr>\n",
       "  </tbody>\n",
       "</table>\n",
       "</div>"
      ],
      "text/plain": [
       "Cancer_Type Country_Region  Breast  Cervical  Colon  Leukemia  Liver  Lung  \\\n",
       "0                Australia     653       632    632       609    670   645   \n",
       "1                   Brazil     597       622    623       619    627   626   \n",
       "2                   Canada     581       636    629       636    562   625   \n",
       "3                    China     615       643    620       590    593   609   \n",
       "4                  Germany     625       596    626       679    624   657   \n",
       "5                    India     640       637    633       577    671   607   \n",
       "6                 Pakistan     604       608    697       612    611   574   \n",
       "7                   Russia     628       593    645       662    642   584   \n",
       "8                       UK     606       658    621       640    621   624   \n",
       "9                      USA     640       597    650       642    628   608   \n",
       "\n",
       "Cancer_Type  Prostate  Skin  \n",
       "0                 614   637  \n",
       "1                 619   671  \n",
       "2                 581   614  \n",
       "3                 619   624  \n",
       "4                 627   590  \n",
       "5                 639   636  \n",
       "6                 608   612  \n",
       "7                 663   600  \n",
       "8                 685   605  \n",
       "9                 653   642  "
      ]
     },
     "execution_count": 10,
     "metadata": {},
     "output_type": "execute_result"
    }
   ],
   "source": [
    "# cancer type by country\n",
    "cancer_type_by_country = (\n",
    "    df.groupby(['Country_Region', 'Cancer_Type'])\n",
    "    .size().unstack(fill_value=0)\n",
    "    .reset_index()\n",
    ")\n",
    "cancer_type_by_country"
   ]
  },
  {
   "cell_type": "code",
   "execution_count": 11,
   "id": "f70c62b0",
   "metadata": {},
   "outputs": [
    {
     "data": {
      "application/vnd.microsoft.datawrangler.viewer.v0+json": {
       "columns": [
        {
         "name": "index",
         "rawType": "int64",
         "type": "integer"
        },
        {
         "name": "Country_Region",
         "rawType": "object",
         "type": "string"
        },
        {
         "name": "2015",
         "rawType": "int64",
         "type": "integer"
        },
        {
         "name": "2016",
         "rawType": "int64",
         "type": "integer"
        },
        {
         "name": "2017",
         "rawType": "int64",
         "type": "integer"
        },
        {
         "name": "2018",
         "rawType": "int64",
         "type": "integer"
        },
        {
         "name": "2019",
         "rawType": "int64",
         "type": "integer"
        },
        {
         "name": "2020",
         "rawType": "int64",
         "type": "integer"
        },
        {
         "name": "2021",
         "rawType": "int64",
         "type": "integer"
        },
        {
         "name": "2022",
         "rawType": "int64",
         "type": "integer"
        },
        {
         "name": "2023",
         "rawType": "int64",
         "type": "integer"
        },
        {
         "name": "2024",
         "rawType": "int64",
         "type": "integer"
        }
       ],
       "ref": "9f2f02d9-eed2-4679-9247-6fd178f24058",
       "rows": [
        [
         "0",
         "Australia",
         "515",
         "516",
         "484",
         "492",
         "525",
         "535",
         "472",
         "513",
         "554",
         "486"
        ],
        [
         "1",
         "Brazil",
         "499",
         "525",
         "508",
         "504",
         "496",
         "485",
         "492",
         "506",
         "491",
         "498"
        ],
        [
         "2",
         "Canada",
         "511",
         "478",
         "481",
         "489",
         "490",
         "502",
         "501",
         "487",
         "437",
         "488"
        ],
        [
         "3",
         "China",
         "529",
         "533",
         "535",
         "474",
         "477",
         "514",
         "444",
         "460",
         "496",
         "451"
        ],
        [
         "4",
         "Germany",
         "473",
         "503",
         "512",
         "517",
         "519",
         "478",
         "484",
         "507",
         "503",
         "528"
        ],
        [
         "5",
         "India",
         "515",
         "508",
         "507",
         "477",
         "504",
         "532",
         "519",
         "470",
         "505",
         "503"
        ],
        [
         "6",
         "Pakistan",
         "460",
         "506",
         "499",
         "451",
         "500",
         "501",
         "517",
         "481",
         "490",
         "521"
        ],
        [
         "7",
         "Russia",
         "512",
         "493",
         "524",
         "501",
         "515",
         "507",
         "504",
         "492",
         "473",
         "496"
        ],
        [
         "8",
         "UK",
         "490",
         "499",
         "493",
         "524",
         "522",
         "525",
         "513",
         "497",
         "488",
         "509"
        ],
        [
         "9",
         "USA",
         "508",
         "533",
         "494",
         "507",
         "517",
         "500",
         "521",
         "468",
         "498",
         "514"
        ]
       ],
       "shape": {
        "columns": 11,
        "rows": 10
       }
      },
      "text/html": [
       "<div>\n",
       "<style scoped>\n",
       "    .dataframe tbody tr th:only-of-type {\n",
       "        vertical-align: middle;\n",
       "    }\n",
       "\n",
       "    .dataframe tbody tr th {\n",
       "        vertical-align: top;\n",
       "    }\n",
       "\n",
       "    .dataframe thead th {\n",
       "        text-align: right;\n",
       "    }\n",
       "</style>\n",
       "<table border=\"1\" class=\"dataframe\">\n",
       "  <thead>\n",
       "    <tr style=\"text-align: right;\">\n",
       "      <th>Year</th>\n",
       "      <th>Country_Region</th>\n",
       "      <th>2015</th>\n",
       "      <th>2016</th>\n",
       "      <th>2017</th>\n",
       "      <th>2018</th>\n",
       "      <th>2019</th>\n",
       "      <th>2020</th>\n",
       "      <th>2021</th>\n",
       "      <th>2022</th>\n",
       "      <th>2023</th>\n",
       "      <th>2024</th>\n",
       "    </tr>\n",
       "  </thead>\n",
       "  <tbody>\n",
       "    <tr>\n",
       "      <th>0</th>\n",
       "      <td>Australia</td>\n",
       "      <td>515</td>\n",
       "      <td>516</td>\n",
       "      <td>484</td>\n",
       "      <td>492</td>\n",
       "      <td>525</td>\n",
       "      <td>535</td>\n",
       "      <td>472</td>\n",
       "      <td>513</td>\n",
       "      <td>554</td>\n",
       "      <td>486</td>\n",
       "    </tr>\n",
       "    <tr>\n",
       "      <th>1</th>\n",
       "      <td>Brazil</td>\n",
       "      <td>499</td>\n",
       "      <td>525</td>\n",
       "      <td>508</td>\n",
       "      <td>504</td>\n",
       "      <td>496</td>\n",
       "      <td>485</td>\n",
       "      <td>492</td>\n",
       "      <td>506</td>\n",
       "      <td>491</td>\n",
       "      <td>498</td>\n",
       "    </tr>\n",
       "    <tr>\n",
       "      <th>2</th>\n",
       "      <td>Canada</td>\n",
       "      <td>511</td>\n",
       "      <td>478</td>\n",
       "      <td>481</td>\n",
       "      <td>489</td>\n",
       "      <td>490</td>\n",
       "      <td>502</td>\n",
       "      <td>501</td>\n",
       "      <td>487</td>\n",
       "      <td>437</td>\n",
       "      <td>488</td>\n",
       "    </tr>\n",
       "    <tr>\n",
       "      <th>3</th>\n",
       "      <td>China</td>\n",
       "      <td>529</td>\n",
       "      <td>533</td>\n",
       "      <td>535</td>\n",
       "      <td>474</td>\n",
       "      <td>477</td>\n",
       "      <td>514</td>\n",
       "      <td>444</td>\n",
       "      <td>460</td>\n",
       "      <td>496</td>\n",
       "      <td>451</td>\n",
       "    </tr>\n",
       "    <tr>\n",
       "      <th>4</th>\n",
       "      <td>Germany</td>\n",
       "      <td>473</td>\n",
       "      <td>503</td>\n",
       "      <td>512</td>\n",
       "      <td>517</td>\n",
       "      <td>519</td>\n",
       "      <td>478</td>\n",
       "      <td>484</td>\n",
       "      <td>507</td>\n",
       "      <td>503</td>\n",
       "      <td>528</td>\n",
       "    </tr>\n",
       "    <tr>\n",
       "      <th>5</th>\n",
       "      <td>India</td>\n",
       "      <td>515</td>\n",
       "      <td>508</td>\n",
       "      <td>507</td>\n",
       "      <td>477</td>\n",
       "      <td>504</td>\n",
       "      <td>532</td>\n",
       "      <td>519</td>\n",
       "      <td>470</td>\n",
       "      <td>505</td>\n",
       "      <td>503</td>\n",
       "    </tr>\n",
       "    <tr>\n",
       "      <th>6</th>\n",
       "      <td>Pakistan</td>\n",
       "      <td>460</td>\n",
       "      <td>506</td>\n",
       "      <td>499</td>\n",
       "      <td>451</td>\n",
       "      <td>500</td>\n",
       "      <td>501</td>\n",
       "      <td>517</td>\n",
       "      <td>481</td>\n",
       "      <td>490</td>\n",
       "      <td>521</td>\n",
       "    </tr>\n",
       "    <tr>\n",
       "      <th>7</th>\n",
       "      <td>Russia</td>\n",
       "      <td>512</td>\n",
       "      <td>493</td>\n",
       "      <td>524</td>\n",
       "      <td>501</td>\n",
       "      <td>515</td>\n",
       "      <td>507</td>\n",
       "      <td>504</td>\n",
       "      <td>492</td>\n",
       "      <td>473</td>\n",
       "      <td>496</td>\n",
       "    </tr>\n",
       "    <tr>\n",
       "      <th>8</th>\n",
       "      <td>UK</td>\n",
       "      <td>490</td>\n",
       "      <td>499</td>\n",
       "      <td>493</td>\n",
       "      <td>524</td>\n",
       "      <td>522</td>\n",
       "      <td>525</td>\n",
       "      <td>513</td>\n",
       "      <td>497</td>\n",
       "      <td>488</td>\n",
       "      <td>509</td>\n",
       "    </tr>\n",
       "    <tr>\n",
       "      <th>9</th>\n",
       "      <td>USA</td>\n",
       "      <td>508</td>\n",
       "      <td>533</td>\n",
       "      <td>494</td>\n",
       "      <td>507</td>\n",
       "      <td>517</td>\n",
       "      <td>500</td>\n",
       "      <td>521</td>\n",
       "      <td>468</td>\n",
       "      <td>498</td>\n",
       "      <td>514</td>\n",
       "    </tr>\n",
       "  </tbody>\n",
       "</table>\n",
       "</div>"
      ],
      "text/plain": [
       "Year Country_Region  2015  2016  2017  2018  2019  2020  2021  2022  2023  \\\n",
       "0         Australia   515   516   484   492   525   535   472   513   554   \n",
       "1            Brazil   499   525   508   504   496   485   492   506   491   \n",
       "2            Canada   511   478   481   489   490   502   501   487   437   \n",
       "3             China   529   533   535   474   477   514   444   460   496   \n",
       "4           Germany   473   503   512   517   519   478   484   507   503   \n",
       "5             India   515   508   507   477   504   532   519   470   505   \n",
       "6          Pakistan   460   506   499   451   500   501   517   481   490   \n",
       "7            Russia   512   493   524   501   515   507   504   492   473   \n",
       "8                UK   490   499   493   524   522   525   513   497   488   \n",
       "9               USA   508   533   494   507   517   500   521   468   498   \n",
       "\n",
       "Year  2024  \n",
       "0      486  \n",
       "1      498  \n",
       "2      488  \n",
       "3      451  \n",
       "4      528  \n",
       "5      503  \n",
       "6      521  \n",
       "7      496  \n",
       "8      509  \n",
       "9      514  "
      ]
     },
     "execution_count": 11,
     "metadata": {},
     "output_type": "execute_result"
    }
   ],
   "source": [
    "# number of cases per year by country \n",
    "cases_per_year_by_country = (\n",
    "    df.groupby('Country_Region')['Year'].value_counts()\n",
    "    .unstack(fill_value=0).reset_index()\n",
    ")\n",
    "cases_per_year_by_country"
   ]
  },
  {
   "cell_type": "code",
   "execution_count": 12,
   "id": "b634cb21",
   "metadata": {},
   "outputs": [
    {
     "data": {
      "application/vnd.microsoft.datawrangler.viewer.v0+json": {
       "columns": [
        {
         "name": "index",
         "rawType": "int64",
         "type": "integer"
        },
        {
         "name": "Country_Region",
         "rawType": "object",
         "type": "string"
        },
        {
         "name": "Genetic_Risk",
         "rawType": "float64",
         "type": "float"
        },
        {
         "name": "Air_Pollution",
         "rawType": "float64",
         "type": "float"
        },
        {
         "name": "Alcohol_Use",
         "rawType": "float64",
         "type": "float"
        },
        {
         "name": "Smoking",
         "rawType": "float64",
         "type": "float"
        },
        {
         "name": "Obesity_Level",
         "rawType": "float64",
         "type": "float"
        }
       ],
       "ref": "5123416e-660d-4f0c-968e-907bce1a0c1d",
       "rows": [
        [
         "0",
         "Australia",
         "5.01",
         "5.03",
         "5.01",
         "4.97",
         "4.97"
        ],
        [
         "1",
         "Brazil",
         "4.95",
         "5.0",
         "5.02",
         "4.99",
         "4.94"
        ],
        [
         "2",
         "Canada",
         "5.09",
         "4.98",
         "4.98",
         "4.99",
         "5.02"
        ],
        [
         "3",
         "China",
         "4.99",
         "5.06",
         "4.99",
         "4.95",
         "5.01"
        ],
        [
         "4",
         "Germany",
         "4.97",
         "4.98",
         "5.03",
         "5.02",
         "4.99"
        ],
        [
         "5",
         "India",
         "4.97",
         "5.04",
         "4.98",
         "4.97",
         "5.01"
        ],
        [
         "6",
         "Pakistan",
         "5.01",
         "5.02",
         "4.92",
         "4.94",
         "5.06"
        ],
        [
         "7",
         "Russia",
         "4.98",
         "4.99",
         "5.1",
         "5.02",
         "4.96"
        ],
        [
         "8",
         "UK",
         "5.0",
         "5.05",
         "5.05",
         "4.95",
         "4.96"
        ],
        [
         "9",
         "USA",
         "5.05",
         "4.95",
         "5.03",
         "5.1",
         "4.98"
        ]
       ],
       "shape": {
        "columns": 6,
        "rows": 10
       }
      },
      "text/html": [
       "<div>\n",
       "<style scoped>\n",
       "    .dataframe tbody tr th:only-of-type {\n",
       "        vertical-align: middle;\n",
       "    }\n",
       "\n",
       "    .dataframe tbody tr th {\n",
       "        vertical-align: top;\n",
       "    }\n",
       "\n",
       "    .dataframe thead th {\n",
       "        text-align: right;\n",
       "    }\n",
       "</style>\n",
       "<table border=\"1\" class=\"dataframe\">\n",
       "  <thead>\n",
       "    <tr style=\"text-align: right;\">\n",
       "      <th></th>\n",
       "      <th>Country_Region</th>\n",
       "      <th>Genetic_Risk</th>\n",
       "      <th>Air_Pollution</th>\n",
       "      <th>Alcohol_Use</th>\n",
       "      <th>Smoking</th>\n",
       "      <th>Obesity_Level</th>\n",
       "    </tr>\n",
       "  </thead>\n",
       "  <tbody>\n",
       "    <tr>\n",
       "      <th>0</th>\n",
       "      <td>Australia</td>\n",
       "      <td>5.01</td>\n",
       "      <td>5.03</td>\n",
       "      <td>5.01</td>\n",
       "      <td>4.97</td>\n",
       "      <td>4.97</td>\n",
       "    </tr>\n",
       "    <tr>\n",
       "      <th>1</th>\n",
       "      <td>Brazil</td>\n",
       "      <td>4.95</td>\n",
       "      <td>5.00</td>\n",
       "      <td>5.02</td>\n",
       "      <td>4.99</td>\n",
       "      <td>4.94</td>\n",
       "    </tr>\n",
       "    <tr>\n",
       "      <th>2</th>\n",
       "      <td>Canada</td>\n",
       "      <td>5.09</td>\n",
       "      <td>4.98</td>\n",
       "      <td>4.98</td>\n",
       "      <td>4.99</td>\n",
       "      <td>5.02</td>\n",
       "    </tr>\n",
       "    <tr>\n",
       "      <th>3</th>\n",
       "      <td>China</td>\n",
       "      <td>4.99</td>\n",
       "      <td>5.06</td>\n",
       "      <td>4.99</td>\n",
       "      <td>4.95</td>\n",
       "      <td>5.01</td>\n",
       "    </tr>\n",
       "    <tr>\n",
       "      <th>4</th>\n",
       "      <td>Germany</td>\n",
       "      <td>4.97</td>\n",
       "      <td>4.98</td>\n",
       "      <td>5.03</td>\n",
       "      <td>5.02</td>\n",
       "      <td>4.99</td>\n",
       "    </tr>\n",
       "    <tr>\n",
       "      <th>5</th>\n",
       "      <td>India</td>\n",
       "      <td>4.97</td>\n",
       "      <td>5.04</td>\n",
       "      <td>4.98</td>\n",
       "      <td>4.97</td>\n",
       "      <td>5.01</td>\n",
       "    </tr>\n",
       "    <tr>\n",
       "      <th>6</th>\n",
       "      <td>Pakistan</td>\n",
       "      <td>5.01</td>\n",
       "      <td>5.02</td>\n",
       "      <td>4.92</td>\n",
       "      <td>4.94</td>\n",
       "      <td>5.06</td>\n",
       "    </tr>\n",
       "    <tr>\n",
       "      <th>7</th>\n",
       "      <td>Russia</td>\n",
       "      <td>4.98</td>\n",
       "      <td>4.99</td>\n",
       "      <td>5.10</td>\n",
       "      <td>5.02</td>\n",
       "      <td>4.96</td>\n",
       "    </tr>\n",
       "    <tr>\n",
       "      <th>8</th>\n",
       "      <td>UK</td>\n",
       "      <td>5.00</td>\n",
       "      <td>5.05</td>\n",
       "      <td>5.05</td>\n",
       "      <td>4.95</td>\n",
       "      <td>4.96</td>\n",
       "    </tr>\n",
       "    <tr>\n",
       "      <th>9</th>\n",
       "      <td>USA</td>\n",
       "      <td>5.05</td>\n",
       "      <td>4.95</td>\n",
       "      <td>5.03</td>\n",
       "      <td>5.10</td>\n",
       "      <td>4.98</td>\n",
       "    </tr>\n",
       "  </tbody>\n",
       "</table>\n",
       "</div>"
      ],
      "text/plain": [
       "  Country_Region  Genetic_Risk  Air_Pollution  Alcohol_Use  Smoking  \\\n",
       "0      Australia          5.01           5.03         5.01     4.97   \n",
       "1         Brazil          4.95           5.00         5.02     4.99   \n",
       "2         Canada          5.09           4.98         4.98     4.99   \n",
       "3          China          4.99           5.06         4.99     4.95   \n",
       "4        Germany          4.97           4.98         5.03     5.02   \n",
       "5          India          4.97           5.04         4.98     4.97   \n",
       "6       Pakistan          5.01           5.02         4.92     4.94   \n",
       "7         Russia          4.98           4.99         5.10     5.02   \n",
       "8             UK          5.00           5.05         5.05     4.95   \n",
       "9            USA          5.05           4.95         5.03     5.10   \n",
       "\n",
       "   Obesity_Level  \n",
       "0           4.97  \n",
       "1           4.94  \n",
       "2           5.02  \n",
       "3           5.01  \n",
       "4           4.99  \n",
       "5           5.01  \n",
       "6           5.06  \n",
       "7           4.96  \n",
       "8           4.96  \n",
       "9           4.98  "
      ]
     },
     "execution_count": 12,
     "metadata": {},
     "output_type": "execute_result"
    }
   ],
   "source": [
    "# average risk factors by country\n",
    "avg_risk_factors_by_country = (\n",
    "    df.groupby('Country_Region')\n",
    "    [['Genetic_Risk','Air_Pollution', 'Alcohol_Use', 'Smoking', 'Obesity_Level']]\n",
    "    .mean().round(2).reset_index()\n",
    ")\n",
    "avg_risk_factors_by_country"
   ]
  },
  {
   "cell_type": "code",
   "execution_count": 13,
   "id": "7aa243bf",
   "metadata": {},
   "outputs": [
    {
     "data": {
      "application/vnd.microsoft.datawrangler.viewer.v0+json": {
       "columns": [
        {
         "name": "index",
         "rawType": "int64",
         "type": "integer"
        },
        {
         "name": "Country_Region",
         "rawType": "object",
         "type": "string"
        },
        {
         "name": "Stage 0",
         "rawType": "int64",
         "type": "integer"
        },
        {
         "name": "Stage I",
         "rawType": "int64",
         "type": "integer"
        },
        {
         "name": "Stage II",
         "rawType": "int64",
         "type": "integer"
        },
        {
         "name": "Stage III",
         "rawType": "int64",
         "type": "integer"
        },
        {
         "name": "Stage IV",
         "rawType": "int64",
         "type": "integer"
        }
       ],
       "ref": "98061079-e9b2-4224-8cea-20065cd08d4b",
       "rows": [
        [
         "0",
         "Australia",
         "991",
         "991",
         "1054",
         "1050",
         "1006"
        ],
        [
         "1",
         "Brazil",
         "1000",
         "1029",
         "1029",
         "962",
         "984"
        ],
        [
         "2",
         "Canada",
         "978",
         "977",
         "978",
         "943",
         "988"
        ],
        [
         "3",
         "China",
         "941",
         "1014",
         "990",
         "1023",
         "945"
        ],
        [
         "4",
         "Germany",
         "1002",
         "1027",
         "987",
         "1023",
         "985"
        ],
        [
         "5",
         "India",
         "981",
         "1044",
         "991",
         "985",
         "1039"
        ],
        [
         "6",
         "Pakistan",
         "1013",
         "940",
         "990",
         "1017",
         "966"
        ],
        [
         "7",
         "Russia",
         "992",
         "1002",
         "1005",
         "990",
         "1028"
        ],
        [
         "8",
         "UK",
         "1007",
         "1015",
         "1071",
         "988",
         "979"
        ],
        [
         "9",
         "USA",
         "984",
         "1007",
         "1029",
         "1027",
         "1013"
        ]
       ],
       "shape": {
        "columns": 6,
        "rows": 10
       }
      },
      "text/html": [
       "<div>\n",
       "<style scoped>\n",
       "    .dataframe tbody tr th:only-of-type {\n",
       "        vertical-align: middle;\n",
       "    }\n",
       "\n",
       "    .dataframe tbody tr th {\n",
       "        vertical-align: top;\n",
       "    }\n",
       "\n",
       "    .dataframe thead th {\n",
       "        text-align: right;\n",
       "    }\n",
       "</style>\n",
       "<table border=\"1\" class=\"dataframe\">\n",
       "  <thead>\n",
       "    <tr style=\"text-align: right;\">\n",
       "      <th>Cancer_Stage</th>\n",
       "      <th>Country_Region</th>\n",
       "      <th>Stage 0</th>\n",
       "      <th>Stage I</th>\n",
       "      <th>Stage II</th>\n",
       "      <th>Stage III</th>\n",
       "      <th>Stage IV</th>\n",
       "    </tr>\n",
       "  </thead>\n",
       "  <tbody>\n",
       "    <tr>\n",
       "      <th>0</th>\n",
       "      <td>Australia</td>\n",
       "      <td>991</td>\n",
       "      <td>991</td>\n",
       "      <td>1054</td>\n",
       "      <td>1050</td>\n",
       "      <td>1006</td>\n",
       "    </tr>\n",
       "    <tr>\n",
       "      <th>1</th>\n",
       "      <td>Brazil</td>\n",
       "      <td>1000</td>\n",
       "      <td>1029</td>\n",
       "      <td>1029</td>\n",
       "      <td>962</td>\n",
       "      <td>984</td>\n",
       "    </tr>\n",
       "    <tr>\n",
       "      <th>2</th>\n",
       "      <td>Canada</td>\n",
       "      <td>978</td>\n",
       "      <td>977</td>\n",
       "      <td>978</td>\n",
       "      <td>943</td>\n",
       "      <td>988</td>\n",
       "    </tr>\n",
       "    <tr>\n",
       "      <th>3</th>\n",
       "      <td>China</td>\n",
       "      <td>941</td>\n",
       "      <td>1014</td>\n",
       "      <td>990</td>\n",
       "      <td>1023</td>\n",
       "      <td>945</td>\n",
       "    </tr>\n",
       "    <tr>\n",
       "      <th>4</th>\n",
       "      <td>Germany</td>\n",
       "      <td>1002</td>\n",
       "      <td>1027</td>\n",
       "      <td>987</td>\n",
       "      <td>1023</td>\n",
       "      <td>985</td>\n",
       "    </tr>\n",
       "    <tr>\n",
       "      <th>5</th>\n",
       "      <td>India</td>\n",
       "      <td>981</td>\n",
       "      <td>1044</td>\n",
       "      <td>991</td>\n",
       "      <td>985</td>\n",
       "      <td>1039</td>\n",
       "    </tr>\n",
       "    <tr>\n",
       "      <th>6</th>\n",
       "      <td>Pakistan</td>\n",
       "      <td>1013</td>\n",
       "      <td>940</td>\n",
       "      <td>990</td>\n",
       "      <td>1017</td>\n",
       "      <td>966</td>\n",
       "    </tr>\n",
       "    <tr>\n",
       "      <th>7</th>\n",
       "      <td>Russia</td>\n",
       "      <td>992</td>\n",
       "      <td>1002</td>\n",
       "      <td>1005</td>\n",
       "      <td>990</td>\n",
       "      <td>1028</td>\n",
       "    </tr>\n",
       "    <tr>\n",
       "      <th>8</th>\n",
       "      <td>UK</td>\n",
       "      <td>1007</td>\n",
       "      <td>1015</td>\n",
       "      <td>1071</td>\n",
       "      <td>988</td>\n",
       "      <td>979</td>\n",
       "    </tr>\n",
       "    <tr>\n",
       "      <th>9</th>\n",
       "      <td>USA</td>\n",
       "      <td>984</td>\n",
       "      <td>1007</td>\n",
       "      <td>1029</td>\n",
       "      <td>1027</td>\n",
       "      <td>1013</td>\n",
       "    </tr>\n",
       "  </tbody>\n",
       "</table>\n",
       "</div>"
      ],
      "text/plain": [
       "Cancer_Stage Country_Region  Stage 0  Stage I  Stage II  Stage III  Stage IV\n",
       "0                 Australia      991      991      1054       1050      1006\n",
       "1                    Brazil     1000     1029      1029        962       984\n",
       "2                    Canada      978      977       978        943       988\n",
       "3                     China      941     1014       990       1023       945\n",
       "4                   Germany     1002     1027       987       1023       985\n",
       "5                     India      981     1044       991        985      1039\n",
       "6                  Pakistan     1013      940       990       1017       966\n",
       "7                    Russia      992     1002      1005        990      1028\n",
       "8                        UK     1007     1015      1071        988       979\n",
       "9                       USA      984     1007      1029       1027      1013"
      ]
     },
     "execution_count": 13,
     "metadata": {},
     "output_type": "execute_result"
    }
   ],
   "source": [
    "# cancer stage by country\n",
    "cancer_stage_by_country = (\n",
    "    df.groupby(['Country_Region', 'Cancer_Stage'])\n",
    "    .size().unstack(fill_value=0)\n",
    "    .reset_index()\n",
    ")\n",
    "cancer_stage_by_country\n"
   ]
  },
  {
   "cell_type": "code",
   "execution_count": 14,
   "id": "2e6ddc88",
   "metadata": {},
   "outputs": [
    {
     "data": {
      "application/vnd.microsoft.datawrangler.viewer.v0+json": {
       "columns": [
        {
         "name": "index",
         "rawType": "int64",
         "type": "integer"
        },
        {
         "name": "Country_Region",
         "rawType": "object",
         "type": "string"
        },
        {
         "name": "2015",
         "rawType": "float64",
         "type": "float"
        },
        {
         "name": "2016",
         "rawType": "float64",
         "type": "float"
        },
        {
         "name": "2017",
         "rawType": "float64",
         "type": "float"
        },
        {
         "name": "2018",
         "rawType": "float64",
         "type": "float"
        },
        {
         "name": "2019",
         "rawType": "float64",
         "type": "float"
        },
        {
         "name": "2020",
         "rawType": "float64",
         "type": "float"
        },
        {
         "name": "2021",
         "rawType": "float64",
         "type": "float"
        },
        {
         "name": "2022",
         "rawType": "float64",
         "type": "float"
        },
        {
         "name": "2023",
         "rawType": "float64",
         "type": "float"
        },
        {
         "name": "2024",
         "rawType": "float64",
         "type": "float"
        }
       ],
       "ref": "49a633bc-b06b-429a-aedf-bc27aec8e055",
       "rows": [
        [
         "0",
         "Australia",
         "27803903.0",
         "26917397.36",
         "25225186.3",
         "25272526.91",
         "27675539.22",
         "28253874.77",
         "24997826.46",
         "27299768.33",
         "29662082.88",
         "24841270.99"
        ],
        [
         "1",
         "Brazil",
         "25939542.66",
         "27316347.9",
         "26855840.94",
         "27139031.55",
         "26884780.99",
         "24403854.74",
         "26360413.02",
         "27107667.5",
         "25614382.83",
         "25292762.71"
        ],
        [
         "2",
         "Canada",
         "26067056.3",
         "24726481.53",
         "25917466.73",
         "26776215.97",
         "25346558.81",
         "25798760.24",
         "26430103.14",
         "25743188.95",
         "23030568.41",
         "25933272.95"
        ],
        [
         "3",
         "China",
         "27326627.84",
         "28972898.34",
         "28350862.62",
         "24681000.76",
         "24953201.05",
         "28064438.84",
         "22854904.65",
         "24228491.419999998",
         "25836003.29",
         "24626391.26"
        ],
        [
         "4",
         "Germany",
         "24885831.07",
         "26347995.03",
         "27868782.44",
         "27029659.27",
         "26988293.49",
         "25553696.12",
         "26146961.58",
         "25766490.75",
         "25866499.33",
         "28658510.15"
        ],
        [
         "5",
         "India",
         "26913599.0",
         "26938692.45",
         "26660277.95",
         "24328738.14",
         "25833955.96",
         "28166258.57",
         "27318644.27",
         "24233676.88",
         "26434166.62",
         "26688012.83"
        ],
        [
         "6",
         "Pakistan",
         "23958463.03",
         "24969666.83",
         "25115933.18",
         "22686713.74",
         "26502619.84",
         "25036414.86",
         "27375107.68",
         "25278541.81",
         "25204561.67",
         "27895745.31"
        ],
        [
         "7",
         "Russia",
         "26887652.37",
         "26386884.2",
         "27644427.18",
         "27133864.2",
         "27089566.98",
         "26630223.62",
         "24986682.94",
         "26237353.37",
         "23298722.18",
         "26191323.58"
        ],
        [
         "8",
         "UK",
         "26039738.44",
         "26070609.26",
         "25995187.03",
         "28478179.27",
         "27140137.16",
         "27005514.68",
         "26278275.79",
         "26223210.95",
         "25062560.19",
         "25837834.85"
        ],
        [
         "9",
         "USA",
         "26402674.81",
         "28963569.88",
         "24683996.44",
         "26955981.89",
         "27287515.81",
         "26868477.66",
         "27623493.11",
         "23900086.69",
         "27179356.02",
         "27700807.37"
        ]
       ],
       "shape": {
        "columns": 11,
        "rows": 10
       }
      },
      "text/html": [
       "<div>\n",
       "<style scoped>\n",
       "    .dataframe tbody tr th:only-of-type {\n",
       "        vertical-align: middle;\n",
       "    }\n",
       "\n",
       "    .dataframe tbody tr th {\n",
       "        vertical-align: top;\n",
       "    }\n",
       "\n",
       "    .dataframe thead th {\n",
       "        text-align: right;\n",
       "    }\n",
       "</style>\n",
       "<table border=\"1\" class=\"dataframe\">\n",
       "  <thead>\n",
       "    <tr style=\"text-align: right;\">\n",
       "      <th>Year</th>\n",
       "      <th>Country_Region</th>\n",
       "      <th>2015</th>\n",
       "      <th>2016</th>\n",
       "      <th>2017</th>\n",
       "      <th>2018</th>\n",
       "      <th>2019</th>\n",
       "      <th>2020</th>\n",
       "      <th>2021</th>\n",
       "      <th>2022</th>\n",
       "      <th>2023</th>\n",
       "      <th>2024</th>\n",
       "    </tr>\n",
       "  </thead>\n",
       "  <tbody>\n",
       "    <tr>\n",
       "      <th>0</th>\n",
       "      <td>Australia</td>\n",
       "      <td>27803903.00</td>\n",
       "      <td>26917397.36</td>\n",
       "      <td>25225186.30</td>\n",
       "      <td>25272526.91</td>\n",
       "      <td>27675539.22</td>\n",
       "      <td>28253874.77</td>\n",
       "      <td>24997826.46</td>\n",
       "      <td>27299768.33</td>\n",
       "      <td>29662082.88</td>\n",
       "      <td>24841270.99</td>\n",
       "    </tr>\n",
       "    <tr>\n",
       "      <th>1</th>\n",
       "      <td>Brazil</td>\n",
       "      <td>25939542.66</td>\n",
       "      <td>27316347.90</td>\n",
       "      <td>26855840.94</td>\n",
       "      <td>27139031.55</td>\n",
       "      <td>26884780.99</td>\n",
       "      <td>24403854.74</td>\n",
       "      <td>26360413.02</td>\n",
       "      <td>27107667.50</td>\n",
       "      <td>25614382.83</td>\n",
       "      <td>25292762.71</td>\n",
       "    </tr>\n",
       "    <tr>\n",
       "      <th>2</th>\n",
       "      <td>Canada</td>\n",
       "      <td>26067056.30</td>\n",
       "      <td>24726481.53</td>\n",
       "      <td>25917466.73</td>\n",
       "      <td>26776215.97</td>\n",
       "      <td>25346558.81</td>\n",
       "      <td>25798760.24</td>\n",
       "      <td>26430103.14</td>\n",
       "      <td>25743188.95</td>\n",
       "      <td>23030568.41</td>\n",
       "      <td>25933272.95</td>\n",
       "    </tr>\n",
       "    <tr>\n",
       "      <th>3</th>\n",
       "      <td>China</td>\n",
       "      <td>27326627.84</td>\n",
       "      <td>28972898.34</td>\n",
       "      <td>28350862.62</td>\n",
       "      <td>24681000.76</td>\n",
       "      <td>24953201.05</td>\n",
       "      <td>28064438.84</td>\n",
       "      <td>22854904.65</td>\n",
       "      <td>24228491.42</td>\n",
       "      <td>25836003.29</td>\n",
       "      <td>24626391.26</td>\n",
       "    </tr>\n",
       "    <tr>\n",
       "      <th>4</th>\n",
       "      <td>Germany</td>\n",
       "      <td>24885831.07</td>\n",
       "      <td>26347995.03</td>\n",
       "      <td>27868782.44</td>\n",
       "      <td>27029659.27</td>\n",
       "      <td>26988293.49</td>\n",
       "      <td>25553696.12</td>\n",
       "      <td>26146961.58</td>\n",
       "      <td>25766490.75</td>\n",
       "      <td>25866499.33</td>\n",
       "      <td>28658510.15</td>\n",
       "    </tr>\n",
       "    <tr>\n",
       "      <th>5</th>\n",
       "      <td>India</td>\n",
       "      <td>26913599.00</td>\n",
       "      <td>26938692.45</td>\n",
       "      <td>26660277.95</td>\n",
       "      <td>24328738.14</td>\n",
       "      <td>25833955.96</td>\n",
       "      <td>28166258.57</td>\n",
       "      <td>27318644.27</td>\n",
       "      <td>24233676.88</td>\n",
       "      <td>26434166.62</td>\n",
       "      <td>26688012.83</td>\n",
       "    </tr>\n",
       "    <tr>\n",
       "      <th>6</th>\n",
       "      <td>Pakistan</td>\n",
       "      <td>23958463.03</td>\n",
       "      <td>24969666.83</td>\n",
       "      <td>25115933.18</td>\n",
       "      <td>22686713.74</td>\n",
       "      <td>26502619.84</td>\n",
       "      <td>25036414.86</td>\n",
       "      <td>27375107.68</td>\n",
       "      <td>25278541.81</td>\n",
       "      <td>25204561.67</td>\n",
       "      <td>27895745.31</td>\n",
       "    </tr>\n",
       "    <tr>\n",
       "      <th>7</th>\n",
       "      <td>Russia</td>\n",
       "      <td>26887652.37</td>\n",
       "      <td>26386884.20</td>\n",
       "      <td>27644427.18</td>\n",
       "      <td>27133864.20</td>\n",
       "      <td>27089566.98</td>\n",
       "      <td>26630223.62</td>\n",
       "      <td>24986682.94</td>\n",
       "      <td>26237353.37</td>\n",
       "      <td>23298722.18</td>\n",
       "      <td>26191323.58</td>\n",
       "    </tr>\n",
       "    <tr>\n",
       "      <th>8</th>\n",
       "      <td>UK</td>\n",
       "      <td>26039738.44</td>\n",
       "      <td>26070609.26</td>\n",
       "      <td>25995187.03</td>\n",
       "      <td>28478179.27</td>\n",
       "      <td>27140137.16</td>\n",
       "      <td>27005514.68</td>\n",
       "      <td>26278275.79</td>\n",
       "      <td>26223210.95</td>\n",
       "      <td>25062560.19</td>\n",
       "      <td>25837834.85</td>\n",
       "    </tr>\n",
       "    <tr>\n",
       "      <th>9</th>\n",
       "      <td>USA</td>\n",
       "      <td>26402674.81</td>\n",
       "      <td>28963569.88</td>\n",
       "      <td>24683996.44</td>\n",
       "      <td>26955981.89</td>\n",
       "      <td>27287515.81</td>\n",
       "      <td>26868477.66</td>\n",
       "      <td>27623493.11</td>\n",
       "      <td>23900086.69</td>\n",
       "      <td>27179356.02</td>\n",
       "      <td>27700807.37</td>\n",
       "    </tr>\n",
       "  </tbody>\n",
       "</table>\n",
       "</div>"
      ],
      "text/plain": [
       "Year Country_Region         2015         2016         2017         2018  \\\n",
       "0         Australia  27803903.00  26917397.36  25225186.30  25272526.91   \n",
       "1            Brazil  25939542.66  27316347.90  26855840.94  27139031.55   \n",
       "2            Canada  26067056.30  24726481.53  25917466.73  26776215.97   \n",
       "3             China  27326627.84  28972898.34  28350862.62  24681000.76   \n",
       "4           Germany  24885831.07  26347995.03  27868782.44  27029659.27   \n",
       "5             India  26913599.00  26938692.45  26660277.95  24328738.14   \n",
       "6          Pakistan  23958463.03  24969666.83  25115933.18  22686713.74   \n",
       "7            Russia  26887652.37  26386884.20  27644427.18  27133864.20   \n",
       "8                UK  26039738.44  26070609.26  25995187.03  28478179.27   \n",
       "9               USA  26402674.81  28963569.88  24683996.44  26955981.89   \n",
       "\n",
       "Year         2019         2020         2021         2022         2023  \\\n",
       "0     27675539.22  28253874.77  24997826.46  27299768.33  29662082.88   \n",
       "1     26884780.99  24403854.74  26360413.02  27107667.50  25614382.83   \n",
       "2     25346558.81  25798760.24  26430103.14  25743188.95  23030568.41   \n",
       "3     24953201.05  28064438.84  22854904.65  24228491.42  25836003.29   \n",
       "4     26988293.49  25553696.12  26146961.58  25766490.75  25866499.33   \n",
       "5     25833955.96  28166258.57  27318644.27  24233676.88  26434166.62   \n",
       "6     26502619.84  25036414.86  27375107.68  25278541.81  25204561.67   \n",
       "7     27089566.98  26630223.62  24986682.94  26237353.37  23298722.18   \n",
       "8     27140137.16  27005514.68  26278275.79  26223210.95  25062560.19   \n",
       "9     27287515.81  26868477.66  27623493.11  23900086.69  27179356.02   \n",
       "\n",
       "Year         2024  \n",
       "0     24841270.99  \n",
       "1     25292762.71  \n",
       "2     25933272.95  \n",
       "3     24626391.26  \n",
       "4     28658510.15  \n",
       "5     26688012.83  \n",
       "6     27895745.31  \n",
       "7     26191323.58  \n",
       "8     25837834.85  \n",
       "9     27700807.37  "
      ]
     },
     "execution_count": 14,
     "metadata": {},
     "output_type": "execute_result"
    }
   ],
   "source": [
    "# treatment cost per year by country\n",
    "cost_per_year_by_country = (\n",
    "    df.groupby(['Country_Region', 'Year'])['Treatment_Cost_USD'].sum()\n",
    "    .unstack(fill_value=0).reset_index()\n",
    ")\n",
    "cost_per_year_by_country"
   ]
  },
  {
   "cell_type": "code",
   "execution_count": 15,
   "id": "ab44160b",
   "metadata": {},
   "outputs": [
    {
     "data": {
      "application/vnd.microsoft.datawrangler.viewer.v0+json": {
       "columns": [
        {
         "name": "index",
         "rawType": "int64",
         "type": "integer"
        },
        {
         "name": "Country_Region",
         "rawType": "object",
         "type": "string"
        },
        {
         "name": "2015",
         "rawType": "float64",
         "type": "float"
        },
        {
         "name": "2016",
         "rawType": "float64",
         "type": "float"
        },
        {
         "name": "2017",
         "rawType": "float64",
         "type": "float"
        },
        {
         "name": "2018",
         "rawType": "float64",
         "type": "float"
        },
        {
         "name": "2019",
         "rawType": "float64",
         "type": "float"
        },
        {
         "name": "2020",
         "rawType": "float64",
         "type": "float"
        },
        {
         "name": "2021",
         "rawType": "float64",
         "type": "float"
        },
        {
         "name": "2022",
         "rawType": "float64",
         "type": "float"
        },
        {
         "name": "2023",
         "rawType": "float64",
         "type": "float"
        },
        {
         "name": "2024",
         "rawType": "float64",
         "type": "float"
        }
       ],
       "ref": "35f434ee-319c-4765-af1f-c387ebf41d29",
       "rows": [
        [
         "0",
         "Australia",
         "4.984485436893205",
         "4.993120155038759",
         "4.9438429752066115",
         "5.056138211382113",
         "4.989409523809524",
         "4.8868785046728975",
         "4.812457627118644",
         "4.899044834307992",
         "4.941624548736462",
         "4.953271604938272"
        ],
        [
         "1",
         "Brazil",
         "4.971723446893788",
         "4.950190476190476",
         "4.909251968503937",
         "4.865059523809523",
         "4.828165322580645",
         "4.961938144329896",
         "4.910691056910569",
         "4.996284584980237",
         "4.900570264765784",
         "5.047971887550201"
        ],
        [
         "2",
         "Canada",
         "4.984363992172212",
         "4.9025104602510465",
         "5.042224532224532",
         "4.8830061349693255",
         "4.915",
         "4.995996015936255",
         "4.952215568862275",
         "5.008459958932238",
         "4.970640732265446",
         "4.968135245901639"
        ],
        [
         "3",
         "China",
         "4.972230623818525",
         "4.880562851782364",
         "4.994",
         "4.979873417721519",
         "4.8971698113207545",
         "4.918579766536965",
         "4.985540540540541",
         "4.955717391304348",
         "4.947983870967741",
         "4.8400665188470064"
        ],
        [
         "4",
         "Germany",
         "4.908414376321352",
         "4.984512922465209",
         "4.883125",
         "4.932224371373308",
         "5.021001926782274",
         "4.905230125523012",
         "4.937706611570248",
         "4.999467455621302",
         "4.957435387673956",
         "4.907556818181818"
        ],
        [
         "5",
         "India",
         "5.003572815533981",
         "4.88744094488189",
         "5.00861932938856",
         "4.9810482180293505",
         "4.95563492063492",
         "4.93203007518797",
         "4.917071290944123",
         "4.968595744680851",
         "4.9073069306930694",
         "4.900437375745527"
        ],
        [
         "6",
         "Pakistan",
         "4.90741304347826",
         "4.906699604743083",
         "4.99188376753507",
         "4.910465631929046",
         "5.03314",
         "5.014710578842315",
         "4.965822050290135",
         "4.914261954261955",
         "4.91473469387755",
         "4.988042226487524"
        ],
        [
         "7",
         "Russia",
         "4.995",
         "4.9319066937119675",
         "4.949770992366412",
         "4.977285429141716",
         "4.968330097087379",
         "4.903570019723866",
         "4.901190476190476",
         "4.953475609756098",
         "5.098076109936574",
         "4.940120967741936"
        ],
        [
         "8",
         "UK",
         "4.829408163265306",
         "4.907615230460922",
         "5.012738336713996",
         "4.949961832061069",
         "4.941762452107279",
         "4.972914285714286",
         "4.944444444444445",
         "4.970281690140845",
         "4.994631147540984",
         "5.056070726915521"
        ],
        [
         "9",
         "USA",
         "4.944547244094488",
         "4.907542213883677",
         "5.001255060728745",
         "5.026863905325444",
         "4.958413926499033",
         "5.01304",
         "4.94021113243762",
         "4.951367521367521",
         "4.946084337349398",
         "4.9782684824902725"
        ]
       ],
       "shape": {
        "columns": 11,
        "rows": 10
       }
      },
      "text/html": [
       "<div>\n",
       "<style scoped>\n",
       "    .dataframe tbody tr th:only-of-type {\n",
       "        vertical-align: middle;\n",
       "    }\n",
       "\n",
       "    .dataframe tbody tr th {\n",
       "        vertical-align: top;\n",
       "    }\n",
       "\n",
       "    .dataframe thead th {\n",
       "        text-align: right;\n",
       "    }\n",
       "</style>\n",
       "<table border=\"1\" class=\"dataframe\">\n",
       "  <thead>\n",
       "    <tr style=\"text-align: right;\">\n",
       "      <th>Year</th>\n",
       "      <th>Country_Region</th>\n",
       "      <th>2015</th>\n",
       "      <th>2016</th>\n",
       "      <th>2017</th>\n",
       "      <th>2018</th>\n",
       "      <th>2019</th>\n",
       "      <th>2020</th>\n",
       "      <th>2021</th>\n",
       "      <th>2022</th>\n",
       "      <th>2023</th>\n",
       "      <th>2024</th>\n",
       "    </tr>\n",
       "  </thead>\n",
       "  <tbody>\n",
       "    <tr>\n",
       "      <th>0</th>\n",
       "      <td>Australia</td>\n",
       "      <td>4.984485</td>\n",
       "      <td>4.993120</td>\n",
       "      <td>4.943843</td>\n",
       "      <td>5.056138</td>\n",
       "      <td>4.989410</td>\n",
       "      <td>4.886879</td>\n",
       "      <td>4.812458</td>\n",
       "      <td>4.899045</td>\n",
       "      <td>4.941625</td>\n",
       "      <td>4.953272</td>\n",
       "    </tr>\n",
       "    <tr>\n",
       "      <th>1</th>\n",
       "      <td>Brazil</td>\n",
       "      <td>4.971723</td>\n",
       "      <td>4.950190</td>\n",
       "      <td>4.909252</td>\n",
       "      <td>4.865060</td>\n",
       "      <td>4.828165</td>\n",
       "      <td>4.961938</td>\n",
       "      <td>4.910691</td>\n",
       "      <td>4.996285</td>\n",
       "      <td>4.900570</td>\n",
       "      <td>5.047972</td>\n",
       "    </tr>\n",
       "    <tr>\n",
       "      <th>2</th>\n",
       "      <td>Canada</td>\n",
       "      <td>4.984364</td>\n",
       "      <td>4.902510</td>\n",
       "      <td>5.042225</td>\n",
       "      <td>4.883006</td>\n",
       "      <td>4.915000</td>\n",
       "      <td>4.995996</td>\n",
       "      <td>4.952216</td>\n",
       "      <td>5.008460</td>\n",
       "      <td>4.970641</td>\n",
       "      <td>4.968135</td>\n",
       "    </tr>\n",
       "    <tr>\n",
       "      <th>3</th>\n",
       "      <td>China</td>\n",
       "      <td>4.972231</td>\n",
       "      <td>4.880563</td>\n",
       "      <td>4.994000</td>\n",
       "      <td>4.979873</td>\n",
       "      <td>4.897170</td>\n",
       "      <td>4.918580</td>\n",
       "      <td>4.985541</td>\n",
       "      <td>4.955717</td>\n",
       "      <td>4.947984</td>\n",
       "      <td>4.840067</td>\n",
       "    </tr>\n",
       "    <tr>\n",
       "      <th>4</th>\n",
       "      <td>Germany</td>\n",
       "      <td>4.908414</td>\n",
       "      <td>4.984513</td>\n",
       "      <td>4.883125</td>\n",
       "      <td>4.932224</td>\n",
       "      <td>5.021002</td>\n",
       "      <td>4.905230</td>\n",
       "      <td>4.937707</td>\n",
       "      <td>4.999467</td>\n",
       "      <td>4.957435</td>\n",
       "      <td>4.907557</td>\n",
       "    </tr>\n",
       "    <tr>\n",
       "      <th>5</th>\n",
       "      <td>India</td>\n",
       "      <td>5.003573</td>\n",
       "      <td>4.887441</td>\n",
       "      <td>5.008619</td>\n",
       "      <td>4.981048</td>\n",
       "      <td>4.955635</td>\n",
       "      <td>4.932030</td>\n",
       "      <td>4.917071</td>\n",
       "      <td>4.968596</td>\n",
       "      <td>4.907307</td>\n",
       "      <td>4.900437</td>\n",
       "    </tr>\n",
       "    <tr>\n",
       "      <th>6</th>\n",
       "      <td>Pakistan</td>\n",
       "      <td>4.907413</td>\n",
       "      <td>4.906700</td>\n",
       "      <td>4.991884</td>\n",
       "      <td>4.910466</td>\n",
       "      <td>5.033140</td>\n",
       "      <td>5.014711</td>\n",
       "      <td>4.965822</td>\n",
       "      <td>4.914262</td>\n",
       "      <td>4.914735</td>\n",
       "      <td>4.988042</td>\n",
       "    </tr>\n",
       "    <tr>\n",
       "      <th>7</th>\n",
       "      <td>Russia</td>\n",
       "      <td>4.995000</td>\n",
       "      <td>4.931907</td>\n",
       "      <td>4.949771</td>\n",
       "      <td>4.977285</td>\n",
       "      <td>4.968330</td>\n",
       "      <td>4.903570</td>\n",
       "      <td>4.901190</td>\n",
       "      <td>4.953476</td>\n",
       "      <td>5.098076</td>\n",
       "      <td>4.940121</td>\n",
       "    </tr>\n",
       "    <tr>\n",
       "      <th>8</th>\n",
       "      <td>UK</td>\n",
       "      <td>4.829408</td>\n",
       "      <td>4.907615</td>\n",
       "      <td>5.012738</td>\n",
       "      <td>4.949962</td>\n",
       "      <td>4.941762</td>\n",
       "      <td>4.972914</td>\n",
       "      <td>4.944444</td>\n",
       "      <td>4.970282</td>\n",
       "      <td>4.994631</td>\n",
       "      <td>5.056071</td>\n",
       "    </tr>\n",
       "    <tr>\n",
       "      <th>9</th>\n",
       "      <td>USA</td>\n",
       "      <td>4.944547</td>\n",
       "      <td>4.907542</td>\n",
       "      <td>5.001255</td>\n",
       "      <td>5.026864</td>\n",
       "      <td>4.958414</td>\n",
       "      <td>5.013040</td>\n",
       "      <td>4.940211</td>\n",
       "      <td>4.951368</td>\n",
       "      <td>4.946084</td>\n",
       "      <td>4.978268</td>\n",
       "    </tr>\n",
       "  </tbody>\n",
       "</table>\n",
       "</div>"
      ],
      "text/plain": [
       "Year Country_Region      2015      2016      2017      2018      2019  \\\n",
       "0         Australia  4.984485  4.993120  4.943843  5.056138  4.989410   \n",
       "1            Brazil  4.971723  4.950190  4.909252  4.865060  4.828165   \n",
       "2            Canada  4.984364  4.902510  5.042225  4.883006  4.915000   \n",
       "3             China  4.972231  4.880563  4.994000  4.979873  4.897170   \n",
       "4           Germany  4.908414  4.984513  4.883125  4.932224  5.021002   \n",
       "5             India  5.003573  4.887441  5.008619  4.981048  4.955635   \n",
       "6          Pakistan  4.907413  4.906700  4.991884  4.910466  5.033140   \n",
       "7            Russia  4.995000  4.931907  4.949771  4.977285  4.968330   \n",
       "8                UK  4.829408  4.907615  5.012738  4.949962  4.941762   \n",
       "9               USA  4.944547  4.907542  5.001255  5.026864  4.958414   \n",
       "\n",
       "Year      2020      2021      2022      2023      2024  \n",
       "0     4.886879  4.812458  4.899045  4.941625  4.953272  \n",
       "1     4.961938  4.910691  4.996285  4.900570  5.047972  \n",
       "2     4.995996  4.952216  5.008460  4.970641  4.968135  \n",
       "3     4.918580  4.985541  4.955717  4.947984  4.840067  \n",
       "4     4.905230  4.937707  4.999467  4.957435  4.907557  \n",
       "5     4.932030  4.917071  4.968596  4.907307  4.900437  \n",
       "6     5.014711  4.965822  4.914262  4.914735  4.988042  \n",
       "7     4.903570  4.901190  4.953476  5.098076  4.940121  \n",
       "8     4.972914  4.944444  4.970282  4.994631  5.056071  \n",
       "9     5.013040  4.940211  4.951368  4.946084  4.978268  "
      ]
     },
     "execution_count": 15,
     "metadata": {},
     "output_type": "execute_result"
    }
   ],
   "source": [
    "# average severity score per year by country\n",
    "sev_score_per_year_by_country = (\n",
    "    df.groupby(['Country_Region', 'Year'])['Target_Severity_Score'].mean()\n",
    "    .unstack(fill_value=0).reset_index()\n",
    ")\n",
    "sev_score_per_year_by_country"
   ]
  },
  {
   "cell_type": "code",
   "execution_count": 16,
   "id": "3c3bca7b",
   "metadata": {},
   "outputs": [
    {
     "data": {
      "application/vnd.microsoft.datawrangler.viewer.v0+json": {
       "columns": [
        {
         "name": "Cancer_Type",
         "rawType": "object",
         "type": "string"
        },
        {
         "name": "proportion",
         "rawType": "float64",
         "type": "float"
        }
       ],
       "ref": "f49d6523-859f-4995-b91e-92b3bfc3ee92",
       "rows": [
        [
         "Colon",
         "12.75"
        ],
        [
         "Prostate",
         "12.62"
        ],
        [
         "Leukemia",
         "12.53"
        ],
        [
         "Liver",
         "12.5"
        ],
        [
         "Skin",
         "12.46"
        ],
        [
         "Cervical",
         "12.44"
        ],
        [
         "Breast",
         "12.38"
        ],
        [
         "Lung",
         "12.32"
        ]
       ],
       "shape": {
        "columns": 1,
        "rows": 8
       }
      },
      "text/plain": [
       "Cancer_Type\n",
       "Colon       12.75\n",
       "Prostate    12.62\n",
       "Leukemia    12.53\n",
       "Liver       12.50\n",
       "Skin        12.46\n",
       "Cervical    12.44\n",
       "Breast      12.38\n",
       "Lung        12.32\n",
       "Name: proportion, dtype: float64"
      ]
     },
     "execution_count": 16,
     "metadata": {},
     "output_type": "execute_result"
    }
   ],
   "source": [
    "# cancer type occurences\n",
    "cancer_type = (df[\"Cancer_Type\"].value_counts(normalize=True) * 100).round(2)\n",
    "cancer_type"
   ]
  },
  {
   "cell_type": "code",
   "execution_count": 17,
   "id": "6cb8a1b7",
   "metadata": {},
   "outputs": [
    {
     "data": {
      "application/vnd.microsoft.datawrangler.viewer.v0+json": {
       "columns": [
        {
         "name": "Cancer_Stage",
         "rawType": "object",
         "type": "string"
        },
        {
         "name": "proportion",
         "rawType": "float64",
         "type": "float"
        }
       ],
       "ref": "8068d407-59f8-40e8-b1e0-8cf5098cdde1",
       "rows": [
        [
         "Stage II",
         "20.25"
        ],
        [
         "Stage I",
         "20.09"
        ],
        [
         "Stage III",
         "20.02"
        ],
        [
         "Stage IV",
         "19.87"
        ],
        [
         "Stage 0",
         "19.78"
        ]
       ],
       "shape": {
        "columns": 1,
        "rows": 5
       }
      },
      "text/plain": [
       "Cancer_Stage\n",
       "Stage II     20.25\n",
       "Stage I      20.09\n",
       "Stage III    20.02\n",
       "Stage IV     19.87\n",
       "Stage 0      19.78\n",
       "Name: proportion, dtype: float64"
      ]
     },
     "execution_count": 17,
     "metadata": {},
     "output_type": "execute_result"
    }
   ],
   "source": [
    "# cancer stage occurences\n",
    "cancer_stage = (df[\"Cancer_Stage\"].value_counts(normalize=True) * 100).round(2)\n",
    "cancer_stage"
   ]
  },
  {
   "cell_type": "code",
   "execution_count": 18,
   "id": "7519a053",
   "metadata": {},
   "outputs": [
    {
     "data": {
      "application/vnd.microsoft.datawrangler.viewer.v0+json": {
       "columns": [
        {
         "name": "index",
         "rawType": "int64",
         "type": "integer"
        },
        {
         "name": "Gender",
         "rawType": "object",
         "type": "string"
        },
        {
         "name": "Breast",
         "rawType": "int64",
         "type": "integer"
        },
        {
         "name": "Cervical",
         "rawType": "int64",
         "type": "integer"
        },
        {
         "name": "Colon",
         "rawType": "int64",
         "type": "integer"
        },
        {
         "name": "Leukemia",
         "rawType": "int64",
         "type": "integer"
        },
        {
         "name": "Liver",
         "rawType": "int64",
         "type": "integer"
        },
        {
         "name": "Lung",
         "rawType": "int64",
         "type": "integer"
        },
        {
         "name": "Prostate",
         "rawType": "int64",
         "type": "integer"
        },
        {
         "name": "Skin",
         "rawType": "int64",
         "type": "integer"
        }
       ],
       "ref": "b5b6d61f-24ab-40cb-9fe4-8535257dc9d9",
       "rows": [
        [
         "0",
         "Female",
         "2051",
         "2160",
         "2108",
         "2081",
         "2064",
         "2067",
         "2113",
         "2065"
        ],
        [
         "1",
         "Male",
         "2080",
         "2028",
         "2147",
         "2092",
         "2091",
         "2103",
         "2138",
         "2117"
        ],
        [
         "2",
         "Other",
         "2058",
         "2034",
         "2121",
         "2093",
         "2094",
         "1989",
         "2057",
         "2049"
        ]
       ],
       "shape": {
        "columns": 9,
        "rows": 3
       }
      },
      "text/html": [
       "<div>\n",
       "<style scoped>\n",
       "    .dataframe tbody tr th:only-of-type {\n",
       "        vertical-align: middle;\n",
       "    }\n",
       "\n",
       "    .dataframe tbody tr th {\n",
       "        vertical-align: top;\n",
       "    }\n",
       "\n",
       "    .dataframe thead th {\n",
       "        text-align: right;\n",
       "    }\n",
       "</style>\n",
       "<table border=\"1\" class=\"dataframe\">\n",
       "  <thead>\n",
       "    <tr style=\"text-align: right;\">\n",
       "      <th>Cancer_Type</th>\n",
       "      <th>Gender</th>\n",
       "      <th>Breast</th>\n",
       "      <th>Cervical</th>\n",
       "      <th>Colon</th>\n",
       "      <th>Leukemia</th>\n",
       "      <th>Liver</th>\n",
       "      <th>Lung</th>\n",
       "      <th>Prostate</th>\n",
       "      <th>Skin</th>\n",
       "    </tr>\n",
       "  </thead>\n",
       "  <tbody>\n",
       "    <tr>\n",
       "      <th>0</th>\n",
       "      <td>Female</td>\n",
       "      <td>2051</td>\n",
       "      <td>2160</td>\n",
       "      <td>2108</td>\n",
       "      <td>2081</td>\n",
       "      <td>2064</td>\n",
       "      <td>2067</td>\n",
       "      <td>2113</td>\n",
       "      <td>2065</td>\n",
       "    </tr>\n",
       "    <tr>\n",
       "      <th>1</th>\n",
       "      <td>Male</td>\n",
       "      <td>2080</td>\n",
       "      <td>2028</td>\n",
       "      <td>2147</td>\n",
       "      <td>2092</td>\n",
       "      <td>2091</td>\n",
       "      <td>2103</td>\n",
       "      <td>2138</td>\n",
       "      <td>2117</td>\n",
       "    </tr>\n",
       "    <tr>\n",
       "      <th>2</th>\n",
       "      <td>Other</td>\n",
       "      <td>2058</td>\n",
       "      <td>2034</td>\n",
       "      <td>2121</td>\n",
       "      <td>2093</td>\n",
       "      <td>2094</td>\n",
       "      <td>1989</td>\n",
       "      <td>2057</td>\n",
       "      <td>2049</td>\n",
       "    </tr>\n",
       "  </tbody>\n",
       "</table>\n",
       "</div>"
      ],
      "text/plain": [
       "Cancer_Type  Gender  Breast  Cervical  Colon  Leukemia  Liver  Lung  Prostate  \\\n",
       "0            Female    2051      2160   2108      2081   2064  2067      2113   \n",
       "1              Male    2080      2028   2147      2092   2091  2103      2138   \n",
       "2             Other    2058      2034   2121      2093   2094  1989      2057   \n",
       "\n",
       "Cancer_Type  Skin  \n",
       "0            2065  \n",
       "1            2117  \n",
       "2            2049  "
      ]
     },
     "execution_count": 18,
     "metadata": {},
     "output_type": "execute_result"
    }
   ],
   "source": [
    "# cancer type by gender\n",
    "cancer_type_by_gender = (\n",
    "    df.groupby('Gender')['Cancer_Type']\n",
    "    .value_counts().unstack(fill_value=0)\n",
    "    .reset_index()\n",
    ")\n",
    "cancer_type_by_gender"
   ]
  },
  {
   "cell_type": "code",
   "execution_count": 19,
   "id": "30b0a4fd",
   "metadata": {},
   "outputs": [
    {
     "data": {
      "application/vnd.microsoft.datawrangler.viewer.v0+json": {
       "columns": [
        {
         "name": "index",
         "rawType": "int64",
         "type": "integer"
        },
        {
         "name": "Gender",
         "rawType": "object",
         "type": "string"
        },
        {
         "name": "Stage 0",
         "rawType": "int64",
         "type": "integer"
        },
        {
         "name": "Stage I",
         "rawType": "int64",
         "type": "integer"
        },
        {
         "name": "Stage II",
         "rawType": "int64",
         "type": "integer"
        },
        {
         "name": "Stage III",
         "rawType": "int64",
         "type": "integer"
        },
        {
         "name": "Stage IV",
         "rawType": "int64",
         "type": "integer"
        }
       ],
       "ref": "af234474-cc87-45d4-b02b-94369361448c",
       "rows": [
        [
         "0",
         "Female",
         "3354",
         "3353",
         "3375",
         "3289",
         "3338"
        ],
        [
         "1",
         "Male",
         "3266",
         "3384",
         "3421",
         "3355",
         "3370"
        ],
        [
         "2",
         "Other",
         "3269",
         "3309",
         "3328",
         "3364",
         "3225"
        ]
       ],
       "shape": {
        "columns": 6,
        "rows": 3
       }
      },
      "text/html": [
       "<div>\n",
       "<style scoped>\n",
       "    .dataframe tbody tr th:only-of-type {\n",
       "        vertical-align: middle;\n",
       "    }\n",
       "\n",
       "    .dataframe tbody tr th {\n",
       "        vertical-align: top;\n",
       "    }\n",
       "\n",
       "    .dataframe thead th {\n",
       "        text-align: right;\n",
       "    }\n",
       "</style>\n",
       "<table border=\"1\" class=\"dataframe\">\n",
       "  <thead>\n",
       "    <tr style=\"text-align: right;\">\n",
       "      <th>Cancer_Stage</th>\n",
       "      <th>Gender</th>\n",
       "      <th>Stage 0</th>\n",
       "      <th>Stage I</th>\n",
       "      <th>Stage II</th>\n",
       "      <th>Stage III</th>\n",
       "      <th>Stage IV</th>\n",
       "    </tr>\n",
       "  </thead>\n",
       "  <tbody>\n",
       "    <tr>\n",
       "      <th>0</th>\n",
       "      <td>Female</td>\n",
       "      <td>3354</td>\n",
       "      <td>3353</td>\n",
       "      <td>3375</td>\n",
       "      <td>3289</td>\n",
       "      <td>3338</td>\n",
       "    </tr>\n",
       "    <tr>\n",
       "      <th>1</th>\n",
       "      <td>Male</td>\n",
       "      <td>3266</td>\n",
       "      <td>3384</td>\n",
       "      <td>3421</td>\n",
       "      <td>3355</td>\n",
       "      <td>3370</td>\n",
       "    </tr>\n",
       "    <tr>\n",
       "      <th>2</th>\n",
       "      <td>Other</td>\n",
       "      <td>3269</td>\n",
       "      <td>3309</td>\n",
       "      <td>3328</td>\n",
       "      <td>3364</td>\n",
       "      <td>3225</td>\n",
       "    </tr>\n",
       "  </tbody>\n",
       "</table>\n",
       "</div>"
      ],
      "text/plain": [
       "Cancer_Stage  Gender  Stage 0  Stage I  Stage II  Stage III  Stage IV\n",
       "0             Female     3354     3353      3375       3289      3338\n",
       "1               Male     3266     3384      3421       3355      3370\n",
       "2              Other     3269     3309      3328       3364      3225"
      ]
     },
     "execution_count": 19,
     "metadata": {},
     "output_type": "execute_result"
    }
   ],
   "source": [
    "# cancer stage by gender\n",
    "cancer_stage_by_gender = (\n",
    "    df.groupby('Gender')['Cancer_Stage']\n",
    "    .value_counts().unstack(fill_value=0)\n",
    "    .reset_index()\n",
    ")\n",
    "cancer_stage_by_gender"
   ]
  },
  {
   "cell_type": "code",
   "execution_count": 20,
   "id": "7f22687e",
   "metadata": {},
   "outputs": [
    {
     "data": {
      "application/vnd.microsoft.datawrangler.viewer.v0+json": {
       "columns": [
        {
         "name": "index",
         "rawType": "int64",
         "type": "integer"
        },
        {
         "name": "Gender",
         "rawType": "object",
         "type": "string"
        },
        {
         "name": "Genetic_Risk",
         "rawType": "float64",
         "type": "float"
        },
        {
         "name": "Air_Pollution",
         "rawType": "float64",
         "type": "float"
        },
        {
         "name": "Alcohol_Use",
         "rawType": "float64",
         "type": "float"
        },
        {
         "name": "Smoking",
         "rawType": "float64",
         "type": "float"
        },
        {
         "name": "Obesity_Level",
         "rawType": "float64",
         "type": "float"
        }
       ],
       "ref": "9244905a-bc64-4457-bb37-81d7ecf23a3f",
       "rows": [
        [
         "0",
         "Female",
         "5.01",
         "5.02",
         "4.99",
         "5.0",
         "5.0"
        ],
        [
         "1",
         "Male",
         "4.99",
         "5.02",
         "5.01",
         "4.98",
         "4.98"
        ],
        [
         "2",
         "Other",
         "5.01",
         "4.99",
         "5.04",
         "4.99",
         "4.99"
        ]
       ],
       "shape": {
        "columns": 6,
        "rows": 3
       }
      },
      "text/html": [
       "<div>\n",
       "<style scoped>\n",
       "    .dataframe tbody tr th:only-of-type {\n",
       "        vertical-align: middle;\n",
       "    }\n",
       "\n",
       "    .dataframe tbody tr th {\n",
       "        vertical-align: top;\n",
       "    }\n",
       "\n",
       "    .dataframe thead th {\n",
       "        text-align: right;\n",
       "    }\n",
       "</style>\n",
       "<table border=\"1\" class=\"dataframe\">\n",
       "  <thead>\n",
       "    <tr style=\"text-align: right;\">\n",
       "      <th></th>\n",
       "      <th>Gender</th>\n",
       "      <th>Genetic_Risk</th>\n",
       "      <th>Air_Pollution</th>\n",
       "      <th>Alcohol_Use</th>\n",
       "      <th>Smoking</th>\n",
       "      <th>Obesity_Level</th>\n",
       "    </tr>\n",
       "  </thead>\n",
       "  <tbody>\n",
       "    <tr>\n",
       "      <th>0</th>\n",
       "      <td>Female</td>\n",
       "      <td>5.01</td>\n",
       "      <td>5.02</td>\n",
       "      <td>4.99</td>\n",
       "      <td>5.00</td>\n",
       "      <td>5.00</td>\n",
       "    </tr>\n",
       "    <tr>\n",
       "      <th>1</th>\n",
       "      <td>Male</td>\n",
       "      <td>4.99</td>\n",
       "      <td>5.02</td>\n",
       "      <td>5.01</td>\n",
       "      <td>4.98</td>\n",
       "      <td>4.98</td>\n",
       "    </tr>\n",
       "    <tr>\n",
       "      <th>2</th>\n",
       "      <td>Other</td>\n",
       "      <td>5.01</td>\n",
       "      <td>4.99</td>\n",
       "      <td>5.04</td>\n",
       "      <td>4.99</td>\n",
       "      <td>4.99</td>\n",
       "    </tr>\n",
       "  </tbody>\n",
       "</table>\n",
       "</div>"
      ],
      "text/plain": [
       "   Gender  Genetic_Risk  Air_Pollution  Alcohol_Use  Smoking  Obesity_Level\n",
       "0  Female          5.01           5.02         4.99     5.00           5.00\n",
       "1    Male          4.99           5.02         5.01     4.98           4.98\n",
       "2   Other          5.01           4.99         5.04     4.99           4.99"
      ]
     },
     "execution_count": 20,
     "metadata": {},
     "output_type": "execute_result"
    }
   ],
   "source": [
    "# average risk factors by gender\n",
    "avg_risk_factors_by_gender = (\n",
    "    df.groupby('Gender')\n",
    "    [['Genetic_Risk','Air_Pollution', 'Alcohol_Use', 'Smoking', 'Obesity_Level']]\n",
    "    .mean().round(2).reset_index()\n",
    ")\n",
    "avg_risk_factors_by_gender"
   ]
  },
  {
   "cell_type": "code",
   "execution_count": 21,
   "id": "5ab000c0",
   "metadata": {},
   "outputs": [
    {
     "data": {
      "application/vnd.microsoft.datawrangler.viewer.v0+json": {
       "columns": [
        {
         "name": "index",
         "rawType": "int64",
         "type": "integer"
        },
        {
         "name": "Age_Group",
         "rawType": "object",
         "type": "string"
        },
        {
         "name": "Stage 0",
         "rawType": "int64",
         "type": "integer"
        },
        {
         "name": "Stage I",
         "rawType": "int64",
         "type": "integer"
        },
        {
         "name": "Stage II",
         "rawType": "int64",
         "type": "integer"
        },
        {
         "name": "Stage III",
         "rawType": "int64",
         "type": "integer"
        },
        {
         "name": "Stage IV",
         "rawType": "int64",
         "type": "integer"
        }
       ],
       "ref": "0ba4d541-33af-4087-8d5e-5cbae0d7c335",
       "rows": [
        [
         "0",
         "30 - 50",
         "3003",
         "3086",
         "2999",
         "3005",
         "3008"
        ],
        [
         "1",
         "51 - 70",
         "2766",
         "2839",
         "2920",
         "2793",
         "2798"
        ],
        [
         "2",
         "Above 70",
         "2739",
         "2679",
         "2736",
         "2748",
         "2690"
        ],
        [
         "3",
         "Under 30",
         "1381",
         "1442",
         "1469",
         "1462",
         "1437"
        ]
       ],
       "shape": {
        "columns": 6,
        "rows": 4
       }
      },
      "text/html": [
       "<div>\n",
       "<style scoped>\n",
       "    .dataframe tbody tr th:only-of-type {\n",
       "        vertical-align: middle;\n",
       "    }\n",
       "\n",
       "    .dataframe tbody tr th {\n",
       "        vertical-align: top;\n",
       "    }\n",
       "\n",
       "    .dataframe thead th {\n",
       "        text-align: right;\n",
       "    }\n",
       "</style>\n",
       "<table border=\"1\" class=\"dataframe\">\n",
       "  <thead>\n",
       "    <tr style=\"text-align: right;\">\n",
       "      <th>Cancer_Stage</th>\n",
       "      <th>Age_Group</th>\n",
       "      <th>Stage 0</th>\n",
       "      <th>Stage I</th>\n",
       "      <th>Stage II</th>\n",
       "      <th>Stage III</th>\n",
       "      <th>Stage IV</th>\n",
       "    </tr>\n",
       "  </thead>\n",
       "  <tbody>\n",
       "    <tr>\n",
       "      <th>0</th>\n",
       "      <td>30 - 50</td>\n",
       "      <td>3003</td>\n",
       "      <td>3086</td>\n",
       "      <td>2999</td>\n",
       "      <td>3005</td>\n",
       "      <td>3008</td>\n",
       "    </tr>\n",
       "    <tr>\n",
       "      <th>1</th>\n",
       "      <td>51 - 70</td>\n",
       "      <td>2766</td>\n",
       "      <td>2839</td>\n",
       "      <td>2920</td>\n",
       "      <td>2793</td>\n",
       "      <td>2798</td>\n",
       "    </tr>\n",
       "    <tr>\n",
       "      <th>2</th>\n",
       "      <td>Above 70</td>\n",
       "      <td>2739</td>\n",
       "      <td>2679</td>\n",
       "      <td>2736</td>\n",
       "      <td>2748</td>\n",
       "      <td>2690</td>\n",
       "    </tr>\n",
       "    <tr>\n",
       "      <th>3</th>\n",
       "      <td>Under 30</td>\n",
       "      <td>1381</td>\n",
       "      <td>1442</td>\n",
       "      <td>1469</td>\n",
       "      <td>1462</td>\n",
       "      <td>1437</td>\n",
       "    </tr>\n",
       "  </tbody>\n",
       "</table>\n",
       "</div>"
      ],
      "text/plain": [
       "Cancer_Stage Age_Group  Stage 0  Stage I  Stage II  Stage III  Stage IV\n",
       "0              30 - 50     3003     3086      2999       3005      3008\n",
       "1              51 - 70     2766     2839      2920       2793      2798\n",
       "2             Above 70     2739     2679      2736       2748      2690\n",
       "3             Under 30     1381     1442      1469       1462      1437"
      ]
     },
     "execution_count": 21,
     "metadata": {},
     "output_type": "execute_result"
    }
   ],
   "source": [
    "# cancer stage by age group\n",
    "cancer_stage_by_ag = (\n",
    "    df.groupby('Age_Group')['Cancer_Stage']\n",
    "    .value_counts().unstack(fill_value=0)\n",
    "    .reset_index()\n",
    ")\n",
    "cancer_stage_by_ag"
   ]
  },
  {
   "cell_type": "code",
   "execution_count": 22,
   "id": "9c93d99a",
   "metadata": {},
   "outputs": [
    {
     "data": {
      "application/vnd.microsoft.datawrangler.viewer.v0+json": {
       "columns": [
        {
         "name": "index",
         "rawType": "int64",
         "type": "integer"
        },
        {
         "name": "Age_Group",
         "rawType": "object",
         "type": "string"
        },
        {
         "name": "Breast",
         "rawType": "int64",
         "type": "integer"
        },
        {
         "name": "Cervical",
         "rawType": "int64",
         "type": "integer"
        },
        {
         "name": "Colon",
         "rawType": "int64",
         "type": "integer"
        },
        {
         "name": "Leukemia",
         "rawType": "int64",
         "type": "integer"
        },
        {
         "name": "Liver",
         "rawType": "int64",
         "type": "integer"
        },
        {
         "name": "Lung",
         "rawType": "int64",
         "type": "integer"
        },
        {
         "name": "Prostate",
         "rawType": "int64",
         "type": "integer"
        },
        {
         "name": "Skin",
         "rawType": "int64",
         "type": "integer"
        }
       ],
       "ref": "4993a930-438f-4668-9c31-4486c57149ce",
       "rows": [
        [
         "0",
         "30 - 50",
         "1894",
         "1900",
         "1937",
         "1880",
         "1858",
         "1897",
         "1884",
         "1851"
        ],
        [
         "1",
         "51 - 70",
         "1689",
         "1710",
         "1794",
         "1756",
         "1799",
         "1754",
         "1814",
         "1800"
        ],
        [
         "2",
         "Above 70",
         "1697",
         "1741",
         "1757",
         "1695",
         "1665",
         "1668",
         "1708",
         "1661"
        ],
        [
         "3",
         "Under 30",
         "909",
         "871",
         "888",
         "935",
         "927",
         "840",
         "902",
         "919"
        ]
       ],
       "shape": {
        "columns": 9,
        "rows": 4
       }
      },
      "text/html": [
       "<div>\n",
       "<style scoped>\n",
       "    .dataframe tbody tr th:only-of-type {\n",
       "        vertical-align: middle;\n",
       "    }\n",
       "\n",
       "    .dataframe tbody tr th {\n",
       "        vertical-align: top;\n",
       "    }\n",
       "\n",
       "    .dataframe thead th {\n",
       "        text-align: right;\n",
       "    }\n",
       "</style>\n",
       "<table border=\"1\" class=\"dataframe\">\n",
       "  <thead>\n",
       "    <tr style=\"text-align: right;\">\n",
       "      <th>Cancer_Type</th>\n",
       "      <th>Age_Group</th>\n",
       "      <th>Breast</th>\n",
       "      <th>Cervical</th>\n",
       "      <th>Colon</th>\n",
       "      <th>Leukemia</th>\n",
       "      <th>Liver</th>\n",
       "      <th>Lung</th>\n",
       "      <th>Prostate</th>\n",
       "      <th>Skin</th>\n",
       "    </tr>\n",
       "  </thead>\n",
       "  <tbody>\n",
       "    <tr>\n",
       "      <th>0</th>\n",
       "      <td>30 - 50</td>\n",
       "      <td>1894</td>\n",
       "      <td>1900</td>\n",
       "      <td>1937</td>\n",
       "      <td>1880</td>\n",
       "      <td>1858</td>\n",
       "      <td>1897</td>\n",
       "      <td>1884</td>\n",
       "      <td>1851</td>\n",
       "    </tr>\n",
       "    <tr>\n",
       "      <th>1</th>\n",
       "      <td>51 - 70</td>\n",
       "      <td>1689</td>\n",
       "      <td>1710</td>\n",
       "      <td>1794</td>\n",
       "      <td>1756</td>\n",
       "      <td>1799</td>\n",
       "      <td>1754</td>\n",
       "      <td>1814</td>\n",
       "      <td>1800</td>\n",
       "    </tr>\n",
       "    <tr>\n",
       "      <th>2</th>\n",
       "      <td>Above 70</td>\n",
       "      <td>1697</td>\n",
       "      <td>1741</td>\n",
       "      <td>1757</td>\n",
       "      <td>1695</td>\n",
       "      <td>1665</td>\n",
       "      <td>1668</td>\n",
       "      <td>1708</td>\n",
       "      <td>1661</td>\n",
       "    </tr>\n",
       "    <tr>\n",
       "      <th>3</th>\n",
       "      <td>Under 30</td>\n",
       "      <td>909</td>\n",
       "      <td>871</td>\n",
       "      <td>888</td>\n",
       "      <td>935</td>\n",
       "      <td>927</td>\n",
       "      <td>840</td>\n",
       "      <td>902</td>\n",
       "      <td>919</td>\n",
       "    </tr>\n",
       "  </tbody>\n",
       "</table>\n",
       "</div>"
      ],
      "text/plain": [
       "Cancer_Type Age_Group  Breast  Cervical  Colon  Leukemia  Liver  Lung  \\\n",
       "0             30 - 50    1894      1900   1937      1880   1858  1897   \n",
       "1             51 - 70    1689      1710   1794      1756   1799  1754   \n",
       "2            Above 70    1697      1741   1757      1695   1665  1668   \n",
       "3            Under 30     909       871    888       935    927   840   \n",
       "\n",
       "Cancer_Type  Prostate  Skin  \n",
       "0                1884  1851  \n",
       "1                1814  1800  \n",
       "2                1708  1661  \n",
       "3                 902   919  "
      ]
     },
     "execution_count": 22,
     "metadata": {},
     "output_type": "execute_result"
    }
   ],
   "source": [
    "# cancer type by age group\n",
    "cancer_stage_by_ag = (\n",
    "    df.groupby('Age_Group')['Cancer_Type']\n",
    "    .value_counts().unstack(fill_value=0)\n",
    "    .reset_index()\n",
    ")\n",
    "cancer_stage_by_ag"
   ]
  },
  {
   "cell_type": "code",
   "execution_count": 23,
   "id": "ded3d09d",
   "metadata": {},
   "outputs": [
    {
     "data": {
      "application/vnd.microsoft.datawrangler.viewer.v0+json": {
       "columns": [
        {
         "name": "index",
         "rawType": "int64",
         "type": "integer"
        },
        {
         "name": "Age_Group",
         "rawType": "object",
         "type": "string"
        },
        {
         "name": "Genetic_Risk",
         "rawType": "float64",
         "type": "float"
        },
        {
         "name": "Air_Pollution",
         "rawType": "float64",
         "type": "float"
        },
        {
         "name": "Alcohol_Use",
         "rawType": "float64",
         "type": "float"
        },
        {
         "name": "Smoking",
         "rawType": "float64",
         "type": "float"
        },
        {
         "name": "Obesity_Level",
         "rawType": "float64",
         "type": "float"
        }
       ],
       "ref": "ff65d8b0-e959-433b-b1e5-2d098783a801",
       "rows": [
        [
         "0",
         "30 - 50",
         "5.02",
         "5.02",
         "5.0",
         "5.01",
         "5.0"
        ],
        [
         "1",
         "51 - 70",
         "4.99",
         "5.01",
         "4.99",
         "5.01",
         "4.97"
        ],
        [
         "2",
         "Above 70",
         "5.02",
         "5.02",
         "5.01",
         "4.98",
         "4.99"
        ],
        [
         "3",
         "Under 30",
         "4.97",
         "4.98",
         "5.07",
         "4.93",
         "5.02"
        ]
       ],
       "shape": {
        "columns": 6,
        "rows": 4
       }
      },
      "text/html": [
       "<div>\n",
       "<style scoped>\n",
       "    .dataframe tbody tr th:only-of-type {\n",
       "        vertical-align: middle;\n",
       "    }\n",
       "\n",
       "    .dataframe tbody tr th {\n",
       "        vertical-align: top;\n",
       "    }\n",
       "\n",
       "    .dataframe thead th {\n",
       "        text-align: right;\n",
       "    }\n",
       "</style>\n",
       "<table border=\"1\" class=\"dataframe\">\n",
       "  <thead>\n",
       "    <tr style=\"text-align: right;\">\n",
       "      <th></th>\n",
       "      <th>Age_Group</th>\n",
       "      <th>Genetic_Risk</th>\n",
       "      <th>Air_Pollution</th>\n",
       "      <th>Alcohol_Use</th>\n",
       "      <th>Smoking</th>\n",
       "      <th>Obesity_Level</th>\n",
       "    </tr>\n",
       "  </thead>\n",
       "  <tbody>\n",
       "    <tr>\n",
       "      <th>0</th>\n",
       "      <td>30 - 50</td>\n",
       "      <td>5.02</td>\n",
       "      <td>5.02</td>\n",
       "      <td>5.00</td>\n",
       "      <td>5.01</td>\n",
       "      <td>5.00</td>\n",
       "    </tr>\n",
       "    <tr>\n",
       "      <th>1</th>\n",
       "      <td>51 - 70</td>\n",
       "      <td>4.99</td>\n",
       "      <td>5.01</td>\n",
       "      <td>4.99</td>\n",
       "      <td>5.01</td>\n",
       "      <td>4.97</td>\n",
       "    </tr>\n",
       "    <tr>\n",
       "      <th>2</th>\n",
       "      <td>Above 70</td>\n",
       "      <td>5.02</td>\n",
       "      <td>5.02</td>\n",
       "      <td>5.01</td>\n",
       "      <td>4.98</td>\n",
       "      <td>4.99</td>\n",
       "    </tr>\n",
       "    <tr>\n",
       "      <th>3</th>\n",
       "      <td>Under 30</td>\n",
       "      <td>4.97</td>\n",
       "      <td>4.98</td>\n",
       "      <td>5.07</td>\n",
       "      <td>4.93</td>\n",
       "      <td>5.02</td>\n",
       "    </tr>\n",
       "  </tbody>\n",
       "</table>\n",
       "</div>"
      ],
      "text/plain": [
       "  Age_Group  Genetic_Risk  Air_Pollution  Alcohol_Use  Smoking  Obesity_Level\n",
       "0   30 - 50          5.02           5.02         5.00     5.01           5.00\n",
       "1   51 - 70          4.99           5.01         4.99     5.01           4.97\n",
       "2  Above 70          5.02           5.02         5.01     4.98           4.99\n",
       "3  Under 30          4.97           4.98         5.07     4.93           5.02"
      ]
     },
     "execution_count": 23,
     "metadata": {},
     "output_type": "execute_result"
    }
   ],
   "source": [
    "# average risk factors by age group\n",
    "avg_risk_factors_by_ag = (\n",
    "    df.groupby('Age_Group')\n",
    "    [['Genetic_Risk','Air_Pollution', 'Alcohol_Use', 'Smoking', 'Obesity_Level']]\n",
    "    .mean().round(2).reset_index()\n",
    ")\n",
    "avg_risk_factors_by_ag"
   ]
  },
  {
   "cell_type": "code",
   "execution_count": 24,
   "id": "c47b31bd",
   "metadata": {},
   "outputs": [
    {
     "data": {
      "application/vnd.microsoft.datawrangler.viewer.v0+json": {
       "columns": [
        {
         "name": "index",
         "rawType": "int64",
         "type": "integer"
        },
        {
         "name": "('Cancer_Type', '')",
         "rawType": "object",
         "type": "string"
        },
        {
         "name": "('Treatment_Cost_USD', 'count')",
         "rawType": "int64",
         "type": "integer"
        },
        {
         "name": "('Treatment_Cost_USD', 'mean')",
         "rawType": "float64",
         "type": "float"
        }
       ],
       "ref": "87b5a2d9-398b-485b-b359-cfe90a77c5e5",
       "rows": [
        [
         "0",
         "Breast",
         "6189",
         "52484.26"
        ],
        [
         "1",
         "Cervical",
         "6222",
         "52361.54"
        ],
        [
         "2",
         "Colon",
         "6376",
         "52167.46"
        ],
        [
         "3",
         "Leukemia",
         "6266",
         "52528.47"
        ],
        [
         "4",
         "Liver",
         "6249",
         "52460.61"
        ],
        [
         "5",
         "Lung",
         "6159",
         "53130.62"
        ],
        [
         "6",
         "Prostate",
         "6308",
         "52620.3"
        ],
        [
         "7",
         "Skin",
         "6231",
         "51997.51"
        ]
       ],
       "shape": {
        "columns": 3,
        "rows": 8
       }
      },
      "text/html": [
       "<div>\n",
       "<style scoped>\n",
       "    .dataframe tbody tr th:only-of-type {\n",
       "        vertical-align: middle;\n",
       "    }\n",
       "\n",
       "    .dataframe tbody tr th {\n",
       "        vertical-align: top;\n",
       "    }\n",
       "\n",
       "    .dataframe thead tr th {\n",
       "        text-align: left;\n",
       "    }\n",
       "</style>\n",
       "<table border=\"1\" class=\"dataframe\">\n",
       "  <thead>\n",
       "    <tr>\n",
       "      <th></th>\n",
       "      <th>Cancer_Type</th>\n",
       "      <th colspan=\"2\" halign=\"left\">Treatment_Cost_USD</th>\n",
       "    </tr>\n",
       "    <tr>\n",
       "      <th></th>\n",
       "      <th></th>\n",
       "      <th>count</th>\n",
       "      <th>mean</th>\n",
       "    </tr>\n",
       "  </thead>\n",
       "  <tbody>\n",
       "    <tr>\n",
       "      <th>0</th>\n",
       "      <td>Breast</td>\n",
       "      <td>6189</td>\n",
       "      <td>52484.26</td>\n",
       "    </tr>\n",
       "    <tr>\n",
       "      <th>1</th>\n",
       "      <td>Cervical</td>\n",
       "      <td>6222</td>\n",
       "      <td>52361.54</td>\n",
       "    </tr>\n",
       "    <tr>\n",
       "      <th>2</th>\n",
       "      <td>Colon</td>\n",
       "      <td>6376</td>\n",
       "      <td>52167.46</td>\n",
       "    </tr>\n",
       "    <tr>\n",
       "      <th>3</th>\n",
       "      <td>Leukemia</td>\n",
       "      <td>6266</td>\n",
       "      <td>52528.47</td>\n",
       "    </tr>\n",
       "    <tr>\n",
       "      <th>4</th>\n",
       "      <td>Liver</td>\n",
       "      <td>6249</td>\n",
       "      <td>52460.61</td>\n",
       "    </tr>\n",
       "    <tr>\n",
       "      <th>5</th>\n",
       "      <td>Lung</td>\n",
       "      <td>6159</td>\n",
       "      <td>53130.62</td>\n",
       "    </tr>\n",
       "    <tr>\n",
       "      <th>6</th>\n",
       "      <td>Prostate</td>\n",
       "      <td>6308</td>\n",
       "      <td>52620.30</td>\n",
       "    </tr>\n",
       "    <tr>\n",
       "      <th>7</th>\n",
       "      <td>Skin</td>\n",
       "      <td>6231</td>\n",
       "      <td>51997.51</td>\n",
       "    </tr>\n",
       "  </tbody>\n",
       "</table>\n",
       "</div>"
      ],
      "text/plain": [
       "  Cancer_Type Treatment_Cost_USD          \n",
       "                           count      mean\n",
       "0      Breast               6189  52484.26\n",
       "1    Cervical               6222  52361.54\n",
       "2       Colon               6376  52167.46\n",
       "3    Leukemia               6266  52528.47\n",
       "4       Liver               6249  52460.61\n",
       "5        Lung               6159  53130.62\n",
       "6    Prostate               6308  52620.30\n",
       "7        Skin               6231  51997.51"
      ]
     },
     "execution_count": 24,
     "metadata": {},
     "output_type": "execute_result"
    }
   ],
   "source": [
    "# total cost by cancer type\n",
    "cost_by_cancer_type = (\n",
    "    df.groupby('Cancer_Type')\n",
    "    [['Treatment_Cost_USD']]\n",
    "    .agg(['count', 'mean']).round(2).reset_index()\n",
    ")\n",
    "cost_by_cancer_type"
   ]
  },
  {
   "cell_type": "code",
   "execution_count": 25,
   "id": "2dcbcf4b",
   "metadata": {},
   "outputs": [
    {
     "data": {
      "application/vnd.microsoft.datawrangler.viewer.v0+json": {
       "columns": [
        {
         "name": "index",
         "rawType": "int64",
         "type": "integer"
        },
        {
         "name": "('Cancer_Stage', '')",
         "rawType": "object",
         "type": "string"
        },
        {
         "name": "('Treatment_Cost_USD', 'count')",
         "rawType": "int64",
         "type": "integer"
        },
        {
         "name": "('Treatment_Cost_USD', 'mean')",
         "rawType": "float64",
         "type": "float"
        }
       ],
       "ref": "f3d33b32-471a-4c6e-bcba-e97732005562",
       "rows": [
        [
         "0",
         "Stage 0",
         "9889",
         "52572.59"
        ],
        [
         "1",
         "Stage I",
         "10046",
         "52674.08"
        ],
        [
         "2",
         "Stage II",
         "10124",
         "52082.84"
        ],
        [
         "3",
         "Stage III",
         "10008",
         "52708.2"
        ],
        [
         "4",
         "Stage IV",
         "9933",
         "52302.47"
        ]
       ],
       "shape": {
        "columns": 3,
        "rows": 5
       }
      },
      "text/html": [
       "<div>\n",
       "<style scoped>\n",
       "    .dataframe tbody tr th:only-of-type {\n",
       "        vertical-align: middle;\n",
       "    }\n",
       "\n",
       "    .dataframe tbody tr th {\n",
       "        vertical-align: top;\n",
       "    }\n",
       "\n",
       "    .dataframe thead tr th {\n",
       "        text-align: left;\n",
       "    }\n",
       "</style>\n",
       "<table border=\"1\" class=\"dataframe\">\n",
       "  <thead>\n",
       "    <tr>\n",
       "      <th></th>\n",
       "      <th>Cancer_Stage</th>\n",
       "      <th colspan=\"2\" halign=\"left\">Treatment_Cost_USD</th>\n",
       "    </tr>\n",
       "    <tr>\n",
       "      <th></th>\n",
       "      <th></th>\n",
       "      <th>count</th>\n",
       "      <th>mean</th>\n",
       "    </tr>\n",
       "  </thead>\n",
       "  <tbody>\n",
       "    <tr>\n",
       "      <th>0</th>\n",
       "      <td>Stage 0</td>\n",
       "      <td>9889</td>\n",
       "      <td>52572.59</td>\n",
       "    </tr>\n",
       "    <tr>\n",
       "      <th>1</th>\n",
       "      <td>Stage I</td>\n",
       "      <td>10046</td>\n",
       "      <td>52674.08</td>\n",
       "    </tr>\n",
       "    <tr>\n",
       "      <th>2</th>\n",
       "      <td>Stage II</td>\n",
       "      <td>10124</td>\n",
       "      <td>52082.84</td>\n",
       "    </tr>\n",
       "    <tr>\n",
       "      <th>3</th>\n",
       "      <td>Stage III</td>\n",
       "      <td>10008</td>\n",
       "      <td>52708.20</td>\n",
       "    </tr>\n",
       "    <tr>\n",
       "      <th>4</th>\n",
       "      <td>Stage IV</td>\n",
       "      <td>9933</td>\n",
       "      <td>52302.47</td>\n",
       "    </tr>\n",
       "  </tbody>\n",
       "</table>\n",
       "</div>"
      ],
      "text/plain": [
       "  Cancer_Stage Treatment_Cost_USD          \n",
       "                            count      mean\n",
       "0      Stage 0               9889  52572.59\n",
       "1      Stage I              10046  52674.08\n",
       "2     Stage II              10124  52082.84\n",
       "3    Stage III              10008  52708.20\n",
       "4     Stage IV               9933  52302.47"
      ]
     },
     "execution_count": 25,
     "metadata": {},
     "output_type": "execute_result"
    }
   ],
   "source": [
    "cost_by_cancer_stage = (\n",
    "    df.groupby('Cancer_Stage')\n",
    "    [['Treatment_Cost_USD']]\n",
    "    .agg(['count', 'mean']).round(2).reset_index()\n",
    ")\n",
    "cost_by_cancer_stage"
   ]
  },
  {
   "cell_type": "code",
   "execution_count": 28,
   "id": "2b4a56e3",
   "metadata": {},
   "outputs": [
    {
     "data": {
      "application/vnd.microsoft.datawrangler.viewer.v0+json": {
       "columns": [
        {
         "name": "index",
         "rawType": "int64",
         "type": "integer"
        },
        {
         "name": "('Cancer_Type', '')",
         "rawType": "object",
         "type": "string"
        },
        {
         "name": "('Country_Region', '')",
         "rawType": "object",
         "type": "string"
        },
        {
         "name": "('Treatment_Cost_USD', 'count')",
         "rawType": "int64",
         "type": "integer"
        },
        {
         "name": "('Treatment_Cost_USD', 'sum')",
         "rawType": "float64",
         "type": "float"
        }
       ],
       "ref": "a12d6c8f-e98c-47f2-943f-0f4899e89fb2",
       "rows": [
        [
         "0",
         "Breast",
         "Australia",
         "653",
         "34925015.08"
        ],
        [
         "1",
         "Breast",
         "Brazil",
         "597",
         "31758977.75"
        ],
        [
         "2",
         "Breast",
         "Canada",
         "581",
         "30945483.09"
        ],
        [
         "3",
         "Breast",
         "China",
         "615",
         "32550420.43"
        ],
        [
         "4",
         "Breast",
         "Germany",
         "625",
         "32017961.69"
        ],
        [
         "5",
         "Breast",
         "India",
         "640",
         "33735577.63"
        ],
        [
         "6",
         "Breast",
         "Pakistan",
         "604",
         "30861613.31"
        ],
        [
         "7",
         "Breast",
         "Russia",
         "628",
         "32408797.48"
        ],
        [
         "8",
         "Breast",
         "UK",
         "606",
         "31448508.54"
        ],
        [
         "9",
         "Breast",
         "USA",
         "640",
         "34172756.31"
        ],
        [
         "10",
         "Cervical",
         "Australia",
         "632",
         "32382258.24"
        ],
        [
         "11",
         "Cervical",
         "Brazil",
         "622",
         "31732659.42"
        ],
        [
         "12",
         "Cervical",
         "Canada",
         "636",
         "32109605.1"
        ],
        [
         "13",
         "Cervical",
         "China",
         "643",
         "34680538.73"
        ],
        [
         "14",
         "Cervical",
         "Germany",
         "596",
         "32133111.45"
        ],
        [
         "15",
         "Cervical",
         "India",
         "637",
         "33266637.47"
        ],
        [
         "16",
         "Cervical",
         "Pakistan",
         "608",
         "31226189.05"
        ],
        [
         "17",
         "Cervical",
         "Russia",
         "593",
         "31023068.38"
        ],
        [
         "18",
         "Cervical",
         "UK",
         "658",
         "35154081.76"
        ],
        [
         "19",
         "Cervical",
         "USA",
         "597",
         "32085324.76"
        ],
        [
         "20",
         "Colon",
         "Australia",
         "632",
         "32846409.09"
        ],
        [
         "21",
         "Colon",
         "Brazil",
         "623",
         "33104420.04"
        ],
        [
         "22",
         "Colon",
         "Canada",
         "629",
         "33883267.15"
        ],
        [
         "23",
         "Colon",
         "China",
         "620",
         "33251609.63"
        ],
        [
         "24",
         "Colon",
         "Germany",
         "626",
         "32439675.12"
        ],
        [
         "25",
         "Colon",
         "India",
         "633",
         "31514859.9"
        ],
        [
         "26",
         "Colon",
         "Pakistan",
         "697",
         "35467335.09"
        ],
        [
         "27",
         "Colon",
         "Russia",
         "645",
         "33847229.92"
        ],
        [
         "28",
         "Colon",
         "UK",
         "621",
         "32822754.09"
        ],
        [
         "29",
         "Colon",
         "USA",
         "650",
         "33442174.01"
        ],
        [
         "30",
         "Leukemia",
         "Australia",
         "609",
         "32120885.73"
        ],
        [
         "31",
         "Leukemia",
         "Brazil",
         "619",
         "31966132.12"
        ],
        [
         "32",
         "Leukemia",
         "Canada",
         "636",
         "34398520.88"
        ],
        [
         "33",
         "Leukemia",
         "China",
         "590",
         "31706690.36"
        ],
        [
         "34",
         "Leukemia",
         "Germany",
         "679",
         "35045773.67"
        ],
        [
         "35",
         "Leukemia",
         "India",
         "577",
         "29597391.77"
        ],
        [
         "36",
         "Leukemia",
         "Pakistan",
         "612",
         "31426106.86"
        ],
        [
         "37",
         "Leukemia",
         "Russia",
         "662",
         "34728900.28"
        ],
        [
         "38",
         "Leukemia",
         "UK",
         "640",
         "34459025.19"
        ],
        [
         "39",
         "Leukemia",
         "USA",
         "642",
         "33693961.16"
        ],
        [
         "40",
         "Liver",
         "Australia",
         "670",
         "34014180.74"
        ],
        [
         "41",
         "Liver",
         "Brazil",
         "627",
         "33326688.15"
        ],
        [
         "42",
         "Liver",
         "Canada",
         "562",
         "29921962.38"
        ],
        [
         "43",
         "Liver",
         "China",
         "593",
         "31877824.81"
        ],
        [
         "44",
         "Liver",
         "Germany",
         "624",
         "33532145.12"
        ],
        [
         "45",
         "Liver",
         "India",
         "671",
         "34617106.21"
        ],
        [
         "46",
         "Liver",
         "Pakistan",
         "611",
         "31525050.94"
        ],
        [
         "47",
         "Liver",
         "Russia",
         "642",
         "33493301.02"
        ],
        [
         "48",
         "Liver",
         "UK",
         "621",
         "31816399.77"
        ],
        [
         "49",
         "Liver",
         "USA",
         "628",
         "33701673.29"
        ]
       ],
       "shape": {
        "columns": 4,
        "rows": 80
       }
      },
      "text/html": [
       "<div>\n",
       "<style scoped>\n",
       "    .dataframe tbody tr th:only-of-type {\n",
       "        vertical-align: middle;\n",
       "    }\n",
       "\n",
       "    .dataframe tbody tr th {\n",
       "        vertical-align: top;\n",
       "    }\n",
       "\n",
       "    .dataframe thead tr th {\n",
       "        text-align: left;\n",
       "    }\n",
       "</style>\n",
       "<table border=\"1\" class=\"dataframe\">\n",
       "  <thead>\n",
       "    <tr>\n",
       "      <th></th>\n",
       "      <th>Cancer_Type</th>\n",
       "      <th>Country_Region</th>\n",
       "      <th colspan=\"2\" halign=\"left\">Treatment_Cost_USD</th>\n",
       "    </tr>\n",
       "    <tr>\n",
       "      <th></th>\n",
       "      <th></th>\n",
       "      <th></th>\n",
       "      <th>count</th>\n",
       "      <th>sum</th>\n",
       "    </tr>\n",
       "  </thead>\n",
       "  <tbody>\n",
       "    <tr>\n",
       "      <th>0</th>\n",
       "      <td>Breast</td>\n",
       "      <td>Australia</td>\n",
       "      <td>653</td>\n",
       "      <td>34925015.08</td>\n",
       "    </tr>\n",
       "    <tr>\n",
       "      <th>1</th>\n",
       "      <td>Breast</td>\n",
       "      <td>Brazil</td>\n",
       "      <td>597</td>\n",
       "      <td>31758977.75</td>\n",
       "    </tr>\n",
       "    <tr>\n",
       "      <th>2</th>\n",
       "      <td>Breast</td>\n",
       "      <td>Canada</td>\n",
       "      <td>581</td>\n",
       "      <td>30945483.09</td>\n",
       "    </tr>\n",
       "    <tr>\n",
       "      <th>3</th>\n",
       "      <td>Breast</td>\n",
       "      <td>China</td>\n",
       "      <td>615</td>\n",
       "      <td>32550420.43</td>\n",
       "    </tr>\n",
       "    <tr>\n",
       "      <th>4</th>\n",
       "      <td>Breast</td>\n",
       "      <td>Germany</td>\n",
       "      <td>625</td>\n",
       "      <td>32017961.69</td>\n",
       "    </tr>\n",
       "    <tr>\n",
       "      <th>...</th>\n",
       "      <td>...</td>\n",
       "      <td>...</td>\n",
       "      <td>...</td>\n",
       "      <td>...</td>\n",
       "    </tr>\n",
       "    <tr>\n",
       "      <th>75</th>\n",
       "      <td>Skin</td>\n",
       "      <td>India</td>\n",
       "      <td>636</td>\n",
       "      <td>33412589.85</td>\n",
       "    </tr>\n",
       "    <tr>\n",
       "      <th>76</th>\n",
       "      <td>Skin</td>\n",
       "      <td>Pakistan</td>\n",
       "      <td>612</td>\n",
       "      <td>31261482.99</td>\n",
       "    </tr>\n",
       "    <tr>\n",
       "      <th>77</th>\n",
       "      <td>Skin</td>\n",
       "      <td>Russia</td>\n",
       "      <td>600</td>\n",
       "      <td>31432169.78</td>\n",
       "    </tr>\n",
       "    <tr>\n",
       "      <th>78</th>\n",
       "      <td>Skin</td>\n",
       "      <td>UK</td>\n",
       "      <td>605</td>\n",
       "      <td>31386817.66</td>\n",
       "    </tr>\n",
       "    <tr>\n",
       "      <th>79</th>\n",
       "      <td>Skin</td>\n",
       "      <td>USA</td>\n",
       "      <td>642</td>\n",
       "      <td>33523224.70</td>\n",
       "    </tr>\n",
       "  </tbody>\n",
       "</table>\n",
       "<p>80 rows × 4 columns</p>\n",
       "</div>"
      ],
      "text/plain": [
       "   Cancer_Type Country_Region Treatment_Cost_USD             \n",
       "                                           count          sum\n",
       "0       Breast      Australia                653  34925015.08\n",
       "1       Breast         Brazil                597  31758977.75\n",
       "2       Breast         Canada                581  30945483.09\n",
       "3       Breast          China                615  32550420.43\n",
       "4       Breast        Germany                625  32017961.69\n",
       "..         ...            ...                ...          ...\n",
       "75        Skin          India                636  33412589.85\n",
       "76        Skin       Pakistan                612  31261482.99\n",
       "77        Skin         Russia                600  31432169.78\n",
       "78        Skin             UK                605  31386817.66\n",
       "79        Skin            USA                642  33523224.70\n",
       "\n",
       "[80 rows x 4 columns]"
      ]
     },
     "execution_count": 28,
     "metadata": {},
     "output_type": "execute_result"
    }
   ],
   "source": [
    "# total cost by cancer type and country\n",
    "cost_by_cancer_type = (\n",
    "    df.groupby(['Cancer_Type', \"Country_Region\"])\n",
    "    [['Treatment_Cost_USD']]\n",
    "    .agg(['count', 'sum']).round(2).reset_index()\n",
    ")\n",
    "cost_by_cancer_type"
   ]
  },
  {
   "cell_type": "code",
   "execution_count": 27,
   "id": "7ff1aaa7",
   "metadata": {},
   "outputs": [
    {
     "data": {
      "application/vnd.microsoft.datawrangler.viewer.v0+json": {
       "columns": [
        {
         "name": "index",
         "rawType": "int64",
         "type": "integer"
        },
        {
         "name": "('Cancer_Stage', '')",
         "rawType": "object",
         "type": "string"
        },
        {
         "name": "('Country_Region', '')",
         "rawType": "object",
         "type": "string"
        },
        {
         "name": "('Treatment_Cost_USD', 'count')",
         "rawType": "int64",
         "type": "integer"
        },
        {
         "name": "('Treatment_Cost_USD', 'mean')",
         "rawType": "float64",
         "type": "float"
        }
       ],
       "ref": "a68f0308-c648-4ef1-842d-bf21b3b899d2",
       "rows": [
        [
         "0",
         "Stage 0",
         "Australia",
         "991",
         "51797.26"
        ],
        [
         "1",
         "Stage 0",
         "Brazil",
         "1000",
         "52664.3"
        ],
        [
         "2",
         "Stage 0",
         "Canada",
         "978",
         "52805.39"
        ],
        [
         "3",
         "Stage 0",
         "China",
         "941",
         "53896.76"
        ],
        [
         "4",
         "Stage 0",
         "Germany",
         "1002",
         "52445.3"
        ],
        [
         "5",
         "Stage 0",
         "India",
         "981",
         "52278.71"
        ],
        [
         "6",
         "Stage 0",
         "Pakistan",
         "1013",
         "52034.69"
        ],
        [
         "7",
         "Stage 0",
         "Russia",
         "992",
         "52938.11"
        ],
        [
         "8",
         "Stage 0",
         "UK",
         "1007",
         "52096.83"
        ],
        [
         "9",
         "Stage 0",
         "USA",
         "984",
         "52857.29"
        ],
        [
         "10",
         "Stage I",
         "Australia",
         "991",
         "51839.63"
        ],
        [
         "11",
         "Stage I",
         "Brazil",
         "1029",
         "51913.03"
        ],
        [
         "12",
         "Stage I",
         "Canada",
         "977",
         "53734.14"
        ],
        [
         "13",
         "Stage I",
         "China",
         "1014",
         "53171.83"
        ],
        [
         "14",
         "Stage I",
         "Germany",
         "1027",
         "52838.46"
        ],
        [
         "15",
         "Stage I",
         "India",
         "1044",
         "53467.57"
        ],
        [
         "16",
         "Stage I",
         "Pakistan",
         "940",
         "52035.92"
        ],
        [
         "17",
         "Stage I",
         "Russia",
         "1002",
         "51884.11"
        ],
        [
         "18",
         "Stage I",
         "UK",
         "1015",
         "52707.62"
        ],
        [
         "19",
         "Stage I",
         "USA",
         "1007",
         "53100.92"
        ],
        [
         "20",
         "Stage II",
         "Australia",
         "1054",
         "51773.55"
        ],
        [
         "21",
         "Stage II",
         "Brazil",
         "1029",
         "52721.34"
        ],
        [
         "22",
         "Stage II",
         "Canada",
         "978",
         "51073.36"
        ],
        [
         "23",
         "Stage II",
         "China",
         "990",
         "52883.23"
        ],
        [
         "24",
         "Stage II",
         "Germany",
         "987",
         "53143.9"
        ],
        [
         "25",
         "Stage II",
         "India",
         "991",
         "52215.42"
        ],
        [
         "26",
         "Stage II",
         "Pakistan",
         "990",
         "50163.19"
        ],
        [
         "27",
         "Stage II",
         "Russia",
         "1005",
         "51979.55"
        ],
        [
         "28",
         "Stage II",
         "UK",
         "1071",
         "51178.53"
        ],
        [
         "29",
         "Stage II",
         "USA",
         "1029",
         "53694.12"
        ],
        [
         "30",
         "Stage III",
         "Australia",
         "1050",
         "54801.07"
        ],
        [
         "31",
         "Stage III",
         "Brazil",
         "962",
         "54057.97"
        ],
        [
         "32",
         "Stage III",
         "Canada",
         "943",
         "52201.19"
        ],
        [
         "33",
         "Stage III",
         "China",
         "1023",
         "52399.72"
        ],
        [
         "34",
         "Stage III",
         "Germany",
         "1023",
         "53436.39"
        ],
        [
         "35",
         "Stage III",
         "India",
         "985",
         "51815.83"
        ],
        [
         "36",
         "Stage III",
         "Pakistan",
         "1017",
         "51469.44"
        ],
        [
         "37",
         "Stage III",
         "Russia",
         "990",
         "52347.3"
        ],
        [
         "38",
         "Stage III",
         "UK",
         "988",
         "53408.08"
        ],
        [
         "39",
         "Stage III",
         "USA",
         "1027",
         "51108.73"
        ],
        [
         "40",
         "Stage IV",
         "Australia",
         "1006",
         "52817.86"
        ],
        [
         "41",
         "Stage IV",
         "Brazil",
         "984",
         "51400.2"
        ],
        [
         "42",
         "Stage IV",
         "Canada",
         "988",
         "53089.36"
        ],
        [
         "43",
         "Stage IV",
         "China",
         "945",
         "52171.87"
        ],
        [
         "44",
         "Stage IV",
         "Germany",
         "985",
         "51958.36"
        ],
        [
         "45",
         "Stage IV",
         "India",
         "1039",
         "51613.48"
        ],
        [
         "46",
         "Stage IV",
         "Pakistan",
         "966",
         "52166.55"
        ],
        [
         "47",
         "Stage IV",
         "Russia",
         "1028",
         "52452.28"
        ],
        [
         "48",
         "Stage IV",
         "UK",
         "979",
         "51677.34"
        ],
        [
         "49",
         "Stage IV",
         "USA",
         "1013",
         "53644.47"
        ]
       ],
       "shape": {
        "columns": 4,
        "rows": 50
       }
      },
      "text/html": [
       "<div>\n",
       "<style scoped>\n",
       "    .dataframe tbody tr th:only-of-type {\n",
       "        vertical-align: middle;\n",
       "    }\n",
       "\n",
       "    .dataframe tbody tr th {\n",
       "        vertical-align: top;\n",
       "    }\n",
       "\n",
       "    .dataframe thead tr th {\n",
       "        text-align: left;\n",
       "    }\n",
       "</style>\n",
       "<table border=\"1\" class=\"dataframe\">\n",
       "  <thead>\n",
       "    <tr>\n",
       "      <th></th>\n",
       "      <th>Cancer_Stage</th>\n",
       "      <th>Country_Region</th>\n",
       "      <th colspan=\"2\" halign=\"left\">Treatment_Cost_USD</th>\n",
       "    </tr>\n",
       "    <tr>\n",
       "      <th></th>\n",
       "      <th></th>\n",
       "      <th></th>\n",
       "      <th>count</th>\n",
       "      <th>mean</th>\n",
       "    </tr>\n",
       "  </thead>\n",
       "  <tbody>\n",
       "    <tr>\n",
       "      <th>0</th>\n",
       "      <td>Stage 0</td>\n",
       "      <td>Australia</td>\n",
       "      <td>991</td>\n",
       "      <td>51797.26</td>\n",
       "    </tr>\n",
       "    <tr>\n",
       "      <th>1</th>\n",
       "      <td>Stage 0</td>\n",
       "      <td>Brazil</td>\n",
       "      <td>1000</td>\n",
       "      <td>52664.30</td>\n",
       "    </tr>\n",
       "    <tr>\n",
       "      <th>2</th>\n",
       "      <td>Stage 0</td>\n",
       "      <td>Canada</td>\n",
       "      <td>978</td>\n",
       "      <td>52805.39</td>\n",
       "    </tr>\n",
       "    <tr>\n",
       "      <th>3</th>\n",
       "      <td>Stage 0</td>\n",
       "      <td>China</td>\n",
       "      <td>941</td>\n",
       "      <td>53896.76</td>\n",
       "    </tr>\n",
       "    <tr>\n",
       "      <th>4</th>\n",
       "      <td>Stage 0</td>\n",
       "      <td>Germany</td>\n",
       "      <td>1002</td>\n",
       "      <td>52445.30</td>\n",
       "    </tr>\n",
       "    <tr>\n",
       "      <th>5</th>\n",
       "      <td>Stage 0</td>\n",
       "      <td>India</td>\n",
       "      <td>981</td>\n",
       "      <td>52278.71</td>\n",
       "    </tr>\n",
       "    <tr>\n",
       "      <th>6</th>\n",
       "      <td>Stage 0</td>\n",
       "      <td>Pakistan</td>\n",
       "      <td>1013</td>\n",
       "      <td>52034.69</td>\n",
       "    </tr>\n",
       "    <tr>\n",
       "      <th>7</th>\n",
       "      <td>Stage 0</td>\n",
       "      <td>Russia</td>\n",
       "      <td>992</td>\n",
       "      <td>52938.11</td>\n",
       "    </tr>\n",
       "    <tr>\n",
       "      <th>8</th>\n",
       "      <td>Stage 0</td>\n",
       "      <td>UK</td>\n",
       "      <td>1007</td>\n",
       "      <td>52096.83</td>\n",
       "    </tr>\n",
       "    <tr>\n",
       "      <th>9</th>\n",
       "      <td>Stage 0</td>\n",
       "      <td>USA</td>\n",
       "      <td>984</td>\n",
       "      <td>52857.29</td>\n",
       "    </tr>\n",
       "    <tr>\n",
       "      <th>10</th>\n",
       "      <td>Stage I</td>\n",
       "      <td>Australia</td>\n",
       "      <td>991</td>\n",
       "      <td>51839.63</td>\n",
       "    </tr>\n",
       "    <tr>\n",
       "      <th>11</th>\n",
       "      <td>Stage I</td>\n",
       "      <td>Brazil</td>\n",
       "      <td>1029</td>\n",
       "      <td>51913.03</td>\n",
       "    </tr>\n",
       "    <tr>\n",
       "      <th>12</th>\n",
       "      <td>Stage I</td>\n",
       "      <td>Canada</td>\n",
       "      <td>977</td>\n",
       "      <td>53734.14</td>\n",
       "    </tr>\n",
       "    <tr>\n",
       "      <th>13</th>\n",
       "      <td>Stage I</td>\n",
       "      <td>China</td>\n",
       "      <td>1014</td>\n",
       "      <td>53171.83</td>\n",
       "    </tr>\n",
       "    <tr>\n",
       "      <th>14</th>\n",
       "      <td>Stage I</td>\n",
       "      <td>Germany</td>\n",
       "      <td>1027</td>\n",
       "      <td>52838.46</td>\n",
       "    </tr>\n",
       "    <tr>\n",
       "      <th>15</th>\n",
       "      <td>Stage I</td>\n",
       "      <td>India</td>\n",
       "      <td>1044</td>\n",
       "      <td>53467.57</td>\n",
       "    </tr>\n",
       "    <tr>\n",
       "      <th>16</th>\n",
       "      <td>Stage I</td>\n",
       "      <td>Pakistan</td>\n",
       "      <td>940</td>\n",
       "      <td>52035.92</td>\n",
       "    </tr>\n",
       "    <tr>\n",
       "      <th>17</th>\n",
       "      <td>Stage I</td>\n",
       "      <td>Russia</td>\n",
       "      <td>1002</td>\n",
       "      <td>51884.11</td>\n",
       "    </tr>\n",
       "    <tr>\n",
       "      <th>18</th>\n",
       "      <td>Stage I</td>\n",
       "      <td>UK</td>\n",
       "      <td>1015</td>\n",
       "      <td>52707.62</td>\n",
       "    </tr>\n",
       "    <tr>\n",
       "      <th>19</th>\n",
       "      <td>Stage I</td>\n",
       "      <td>USA</td>\n",
       "      <td>1007</td>\n",
       "      <td>53100.92</td>\n",
       "    </tr>\n",
       "    <tr>\n",
       "      <th>20</th>\n",
       "      <td>Stage II</td>\n",
       "      <td>Australia</td>\n",
       "      <td>1054</td>\n",
       "      <td>51773.55</td>\n",
       "    </tr>\n",
       "    <tr>\n",
       "      <th>21</th>\n",
       "      <td>Stage II</td>\n",
       "      <td>Brazil</td>\n",
       "      <td>1029</td>\n",
       "      <td>52721.34</td>\n",
       "    </tr>\n",
       "    <tr>\n",
       "      <th>22</th>\n",
       "      <td>Stage II</td>\n",
       "      <td>Canada</td>\n",
       "      <td>978</td>\n",
       "      <td>51073.36</td>\n",
       "    </tr>\n",
       "    <tr>\n",
       "      <th>23</th>\n",
       "      <td>Stage II</td>\n",
       "      <td>China</td>\n",
       "      <td>990</td>\n",
       "      <td>52883.23</td>\n",
       "    </tr>\n",
       "    <tr>\n",
       "      <th>24</th>\n",
       "      <td>Stage II</td>\n",
       "      <td>Germany</td>\n",
       "      <td>987</td>\n",
       "      <td>53143.90</td>\n",
       "    </tr>\n",
       "    <tr>\n",
       "      <th>25</th>\n",
       "      <td>Stage II</td>\n",
       "      <td>India</td>\n",
       "      <td>991</td>\n",
       "      <td>52215.42</td>\n",
       "    </tr>\n",
       "    <tr>\n",
       "      <th>26</th>\n",
       "      <td>Stage II</td>\n",
       "      <td>Pakistan</td>\n",
       "      <td>990</td>\n",
       "      <td>50163.19</td>\n",
       "    </tr>\n",
       "    <tr>\n",
       "      <th>27</th>\n",
       "      <td>Stage II</td>\n",
       "      <td>Russia</td>\n",
       "      <td>1005</td>\n",
       "      <td>51979.55</td>\n",
       "    </tr>\n",
       "    <tr>\n",
       "      <th>28</th>\n",
       "      <td>Stage II</td>\n",
       "      <td>UK</td>\n",
       "      <td>1071</td>\n",
       "      <td>51178.53</td>\n",
       "    </tr>\n",
       "    <tr>\n",
       "      <th>29</th>\n",
       "      <td>Stage II</td>\n",
       "      <td>USA</td>\n",
       "      <td>1029</td>\n",
       "      <td>53694.12</td>\n",
       "    </tr>\n",
       "    <tr>\n",
       "      <th>30</th>\n",
       "      <td>Stage III</td>\n",
       "      <td>Australia</td>\n",
       "      <td>1050</td>\n",
       "      <td>54801.07</td>\n",
       "    </tr>\n",
       "    <tr>\n",
       "      <th>31</th>\n",
       "      <td>Stage III</td>\n",
       "      <td>Brazil</td>\n",
       "      <td>962</td>\n",
       "      <td>54057.97</td>\n",
       "    </tr>\n",
       "    <tr>\n",
       "      <th>32</th>\n",
       "      <td>Stage III</td>\n",
       "      <td>Canada</td>\n",
       "      <td>943</td>\n",
       "      <td>52201.19</td>\n",
       "    </tr>\n",
       "    <tr>\n",
       "      <th>33</th>\n",
       "      <td>Stage III</td>\n",
       "      <td>China</td>\n",
       "      <td>1023</td>\n",
       "      <td>52399.72</td>\n",
       "    </tr>\n",
       "    <tr>\n",
       "      <th>34</th>\n",
       "      <td>Stage III</td>\n",
       "      <td>Germany</td>\n",
       "      <td>1023</td>\n",
       "      <td>53436.39</td>\n",
       "    </tr>\n",
       "    <tr>\n",
       "      <th>35</th>\n",
       "      <td>Stage III</td>\n",
       "      <td>India</td>\n",
       "      <td>985</td>\n",
       "      <td>51815.83</td>\n",
       "    </tr>\n",
       "    <tr>\n",
       "      <th>36</th>\n",
       "      <td>Stage III</td>\n",
       "      <td>Pakistan</td>\n",
       "      <td>1017</td>\n",
       "      <td>51469.44</td>\n",
       "    </tr>\n",
       "    <tr>\n",
       "      <th>37</th>\n",
       "      <td>Stage III</td>\n",
       "      <td>Russia</td>\n",
       "      <td>990</td>\n",
       "      <td>52347.30</td>\n",
       "    </tr>\n",
       "    <tr>\n",
       "      <th>38</th>\n",
       "      <td>Stage III</td>\n",
       "      <td>UK</td>\n",
       "      <td>988</td>\n",
       "      <td>53408.08</td>\n",
       "    </tr>\n",
       "    <tr>\n",
       "      <th>39</th>\n",
       "      <td>Stage III</td>\n",
       "      <td>USA</td>\n",
       "      <td>1027</td>\n",
       "      <td>51108.73</td>\n",
       "    </tr>\n",
       "    <tr>\n",
       "      <th>40</th>\n",
       "      <td>Stage IV</td>\n",
       "      <td>Australia</td>\n",
       "      <td>1006</td>\n",
       "      <td>52817.86</td>\n",
       "    </tr>\n",
       "    <tr>\n",
       "      <th>41</th>\n",
       "      <td>Stage IV</td>\n",
       "      <td>Brazil</td>\n",
       "      <td>984</td>\n",
       "      <td>51400.20</td>\n",
       "    </tr>\n",
       "    <tr>\n",
       "      <th>42</th>\n",
       "      <td>Stage IV</td>\n",
       "      <td>Canada</td>\n",
       "      <td>988</td>\n",
       "      <td>53089.36</td>\n",
       "    </tr>\n",
       "    <tr>\n",
       "      <th>43</th>\n",
       "      <td>Stage IV</td>\n",
       "      <td>China</td>\n",
       "      <td>945</td>\n",
       "      <td>52171.87</td>\n",
       "    </tr>\n",
       "    <tr>\n",
       "      <th>44</th>\n",
       "      <td>Stage IV</td>\n",
       "      <td>Germany</td>\n",
       "      <td>985</td>\n",
       "      <td>51958.36</td>\n",
       "    </tr>\n",
       "    <tr>\n",
       "      <th>45</th>\n",
       "      <td>Stage IV</td>\n",
       "      <td>India</td>\n",
       "      <td>1039</td>\n",
       "      <td>51613.48</td>\n",
       "    </tr>\n",
       "    <tr>\n",
       "      <th>46</th>\n",
       "      <td>Stage IV</td>\n",
       "      <td>Pakistan</td>\n",
       "      <td>966</td>\n",
       "      <td>52166.55</td>\n",
       "    </tr>\n",
       "    <tr>\n",
       "      <th>47</th>\n",
       "      <td>Stage IV</td>\n",
       "      <td>Russia</td>\n",
       "      <td>1028</td>\n",
       "      <td>52452.28</td>\n",
       "    </tr>\n",
       "    <tr>\n",
       "      <th>48</th>\n",
       "      <td>Stage IV</td>\n",
       "      <td>UK</td>\n",
       "      <td>979</td>\n",
       "      <td>51677.34</td>\n",
       "    </tr>\n",
       "    <tr>\n",
       "      <th>49</th>\n",
       "      <td>Stage IV</td>\n",
       "      <td>USA</td>\n",
       "      <td>1013</td>\n",
       "      <td>53644.47</td>\n",
       "    </tr>\n",
       "  </tbody>\n",
       "</table>\n",
       "</div>"
      ],
      "text/plain": [
       "   Cancer_Stage Country_Region Treatment_Cost_USD          \n",
       "                                            count      mean\n",
       "0       Stage 0      Australia                991  51797.26\n",
       "1       Stage 0         Brazil               1000  52664.30\n",
       "2       Stage 0         Canada                978  52805.39\n",
       "3       Stage 0          China                941  53896.76\n",
       "4       Stage 0        Germany               1002  52445.30\n",
       "5       Stage 0          India                981  52278.71\n",
       "6       Stage 0       Pakistan               1013  52034.69\n",
       "7       Stage 0         Russia                992  52938.11\n",
       "8       Stage 0             UK               1007  52096.83\n",
       "9       Stage 0            USA                984  52857.29\n",
       "10      Stage I      Australia                991  51839.63\n",
       "11      Stage I         Brazil               1029  51913.03\n",
       "12      Stage I         Canada                977  53734.14\n",
       "13      Stage I          China               1014  53171.83\n",
       "14      Stage I        Germany               1027  52838.46\n",
       "15      Stage I          India               1044  53467.57\n",
       "16      Stage I       Pakistan                940  52035.92\n",
       "17      Stage I         Russia               1002  51884.11\n",
       "18      Stage I             UK               1015  52707.62\n",
       "19      Stage I            USA               1007  53100.92\n",
       "20     Stage II      Australia               1054  51773.55\n",
       "21     Stage II         Brazil               1029  52721.34\n",
       "22     Stage II         Canada                978  51073.36\n",
       "23     Stage II          China                990  52883.23\n",
       "24     Stage II        Germany                987  53143.90\n",
       "25     Stage II          India                991  52215.42\n",
       "26     Stage II       Pakistan                990  50163.19\n",
       "27     Stage II         Russia               1005  51979.55\n",
       "28     Stage II             UK               1071  51178.53\n",
       "29     Stage II            USA               1029  53694.12\n",
       "30    Stage III      Australia               1050  54801.07\n",
       "31    Stage III         Brazil                962  54057.97\n",
       "32    Stage III         Canada                943  52201.19\n",
       "33    Stage III          China               1023  52399.72\n",
       "34    Stage III        Germany               1023  53436.39\n",
       "35    Stage III          India                985  51815.83\n",
       "36    Stage III       Pakistan               1017  51469.44\n",
       "37    Stage III         Russia                990  52347.30\n",
       "38    Stage III             UK                988  53408.08\n",
       "39    Stage III            USA               1027  51108.73\n",
       "40     Stage IV      Australia               1006  52817.86\n",
       "41     Stage IV         Brazil                984  51400.20\n",
       "42     Stage IV         Canada                988  53089.36\n",
       "43     Stage IV          China                945  52171.87\n",
       "44     Stage IV        Germany                985  51958.36\n",
       "45     Stage IV          India               1039  51613.48\n",
       "46     Stage IV       Pakistan                966  52166.55\n",
       "47     Stage IV         Russia               1028  52452.28\n",
       "48     Stage IV             UK                979  51677.34\n",
       "49     Stage IV            USA               1013  53644.47"
      ]
     },
     "execution_count": 27,
     "metadata": {},
     "output_type": "execute_result"
    }
   ],
   "source": [
    "# total cost by cancer stage and country\n",
    "cost_by_cancer_stage = (\n",
    "    df.groupby(['Cancer_Stage', \"Country_Region\"])\n",
    "    [['Treatment_Cost_USD']]\n",
    "    .agg(['count', 'mean']).round(2).reset_index()\n",
    ")\n",
    "cost_by_cancer_stage"
   ]
  },
  {
   "cell_type": "code",
   "execution_count": 33,
   "id": "5220d2e0",
   "metadata": {},
   "outputs": [
    {
     "data": {
      "application/vnd.microsoft.datawrangler.viewer.v0+json": {
       "columns": [
        {
         "name": "index",
         "rawType": "int64",
         "type": "integer"
        },
        {
         "name": "Patient_ID",
         "rawType": "object",
         "type": "string"
        },
        {
         "name": "Age",
         "rawType": "int64",
         "type": "integer"
        },
        {
         "name": "Gender",
         "rawType": "object",
         "type": "string"
        },
        {
         "name": "Country_Region",
         "rawType": "object",
         "type": "string"
        },
        {
         "name": "Year",
         "rawType": "int64",
         "type": "integer"
        },
        {
         "name": "Genetic_Risk",
         "rawType": "float64",
         "type": "float"
        },
        {
         "name": "Air_Pollution",
         "rawType": "float64",
         "type": "float"
        },
        {
         "name": "Alcohol_Use",
         "rawType": "float64",
         "type": "float"
        },
        {
         "name": "Smoking",
         "rawType": "float64",
         "type": "float"
        },
        {
         "name": "Obesity_Level",
         "rawType": "float64",
         "type": "float"
        },
        {
         "name": "Cancer_Type",
         "rawType": "object",
         "type": "string"
        },
        {
         "name": "Cancer_Stage",
         "rawType": "object",
         "type": "string"
        },
        {
         "name": "Treatment_Cost_USD",
         "rawType": "float64",
         "type": "float"
        },
        {
         "name": "Survival_Years",
         "rawType": "float64",
         "type": "float"
        },
        {
         "name": "Target_Severity_Score",
         "rawType": "float64",
         "type": "float"
        },
        {
         "name": "Age_Group",
         "rawType": "object",
         "type": "string"
        }
       ],
       "ref": "28075acd-3164-4242-a45e-a9d359b2438e",
       "rows": [
        [
         "0",
         "PT0000000",
         "71",
         "Male",
         "UK",
         "2021",
         "6.4",
         "2.8",
         "9.5",
         "0.9",
         "8.7",
         "Lung",
         "Stage III",
         "62913.44",
         "5.9",
         "4.92",
         "Above 70"
        ],
        [
         "1",
         "PT0000001",
         "34",
         "Male",
         "China",
         "2021",
         "1.3",
         "4.5",
         "3.7",
         "3.9",
         "6.3",
         "Leukemia",
         "Stage 0",
         "12573.41",
         "4.7",
         "4.65",
         "30 - 50"
        ],
        [
         "2",
         "PT0000002",
         "80",
         "Male",
         "Pakistan",
         "2023",
         "7.4",
         "7.9",
         "2.4",
         "4.7",
         "0.1",
         "Breast",
         "Stage II",
         "6984.33",
         "7.1",
         "5.84",
         "Above 70"
        ],
        [
         "3",
         "PT0000003",
         "40",
         "Male",
         "UK",
         "2015",
         "1.7",
         "2.9",
         "4.8",
         "3.5",
         "2.7",
         "Colon",
         "Stage I",
         "67446.25",
         "1.6",
         "3.12",
         "30 - 50"
        ],
        [
         "4",
         "PT0000004",
         "43",
         "Female",
         "Brazil",
         "2017",
         "5.1",
         "2.8",
         "2.3",
         "6.7",
         "0.5",
         "Skin",
         "Stage III",
         "77977.12",
         "2.9",
         "3.62",
         "30 - 50"
        ]
       ],
       "shape": {
        "columns": 16,
        "rows": 5
       }
      },
      "text/html": [
       "<div>\n",
       "<style scoped>\n",
       "    .dataframe tbody tr th:only-of-type {\n",
       "        vertical-align: middle;\n",
       "    }\n",
       "\n",
       "    .dataframe tbody tr th {\n",
       "        vertical-align: top;\n",
       "    }\n",
       "\n",
       "    .dataframe thead th {\n",
       "        text-align: right;\n",
       "    }\n",
       "</style>\n",
       "<table border=\"1\" class=\"dataframe\">\n",
       "  <thead>\n",
       "    <tr style=\"text-align: right;\">\n",
       "      <th></th>\n",
       "      <th>Patient_ID</th>\n",
       "      <th>Age</th>\n",
       "      <th>Gender</th>\n",
       "      <th>Country_Region</th>\n",
       "      <th>Year</th>\n",
       "      <th>Genetic_Risk</th>\n",
       "      <th>Air_Pollution</th>\n",
       "      <th>Alcohol_Use</th>\n",
       "      <th>Smoking</th>\n",
       "      <th>Obesity_Level</th>\n",
       "      <th>Cancer_Type</th>\n",
       "      <th>Cancer_Stage</th>\n",
       "      <th>Treatment_Cost_USD</th>\n",
       "      <th>Survival_Years</th>\n",
       "      <th>Target_Severity_Score</th>\n",
       "      <th>Age_Group</th>\n",
       "    </tr>\n",
       "  </thead>\n",
       "  <tbody>\n",
       "    <tr>\n",
       "      <th>0</th>\n",
       "      <td>PT0000000</td>\n",
       "      <td>71</td>\n",
       "      <td>Male</td>\n",
       "      <td>UK</td>\n",
       "      <td>2021</td>\n",
       "      <td>6.4</td>\n",
       "      <td>2.8</td>\n",
       "      <td>9.5</td>\n",
       "      <td>0.9</td>\n",
       "      <td>8.7</td>\n",
       "      <td>Lung</td>\n",
       "      <td>Stage III</td>\n",
       "      <td>62913.44</td>\n",
       "      <td>5.9</td>\n",
       "      <td>4.92</td>\n",
       "      <td>Above 70</td>\n",
       "    </tr>\n",
       "    <tr>\n",
       "      <th>1</th>\n",
       "      <td>PT0000001</td>\n",
       "      <td>34</td>\n",
       "      <td>Male</td>\n",
       "      <td>China</td>\n",
       "      <td>2021</td>\n",
       "      <td>1.3</td>\n",
       "      <td>4.5</td>\n",
       "      <td>3.7</td>\n",
       "      <td>3.9</td>\n",
       "      <td>6.3</td>\n",
       "      <td>Leukemia</td>\n",
       "      <td>Stage 0</td>\n",
       "      <td>12573.41</td>\n",
       "      <td>4.7</td>\n",
       "      <td>4.65</td>\n",
       "      <td>30 - 50</td>\n",
       "    </tr>\n",
       "    <tr>\n",
       "      <th>2</th>\n",
       "      <td>PT0000002</td>\n",
       "      <td>80</td>\n",
       "      <td>Male</td>\n",
       "      <td>Pakistan</td>\n",
       "      <td>2023</td>\n",
       "      <td>7.4</td>\n",
       "      <td>7.9</td>\n",
       "      <td>2.4</td>\n",
       "      <td>4.7</td>\n",
       "      <td>0.1</td>\n",
       "      <td>Breast</td>\n",
       "      <td>Stage II</td>\n",
       "      <td>6984.33</td>\n",
       "      <td>7.1</td>\n",
       "      <td>5.84</td>\n",
       "      <td>Above 70</td>\n",
       "    </tr>\n",
       "    <tr>\n",
       "      <th>3</th>\n",
       "      <td>PT0000003</td>\n",
       "      <td>40</td>\n",
       "      <td>Male</td>\n",
       "      <td>UK</td>\n",
       "      <td>2015</td>\n",
       "      <td>1.7</td>\n",
       "      <td>2.9</td>\n",
       "      <td>4.8</td>\n",
       "      <td>3.5</td>\n",
       "      <td>2.7</td>\n",
       "      <td>Colon</td>\n",
       "      <td>Stage I</td>\n",
       "      <td>67446.25</td>\n",
       "      <td>1.6</td>\n",
       "      <td>3.12</td>\n",
       "      <td>30 - 50</td>\n",
       "    </tr>\n",
       "    <tr>\n",
       "      <th>4</th>\n",
       "      <td>PT0000004</td>\n",
       "      <td>43</td>\n",
       "      <td>Female</td>\n",
       "      <td>Brazil</td>\n",
       "      <td>2017</td>\n",
       "      <td>5.1</td>\n",
       "      <td>2.8</td>\n",
       "      <td>2.3</td>\n",
       "      <td>6.7</td>\n",
       "      <td>0.5</td>\n",
       "      <td>Skin</td>\n",
       "      <td>Stage III</td>\n",
       "      <td>77977.12</td>\n",
       "      <td>2.9</td>\n",
       "      <td>3.62</td>\n",
       "      <td>30 - 50</td>\n",
       "    </tr>\n",
       "  </tbody>\n",
       "</table>\n",
       "</div>"
      ],
      "text/plain": [
       "  Patient_ID  Age  Gender Country_Region  Year  Genetic_Risk  Air_Pollution  \\\n",
       "0  PT0000000   71    Male             UK  2021           6.4            2.8   \n",
       "1  PT0000001   34    Male          China  2021           1.3            4.5   \n",
       "2  PT0000002   80    Male       Pakistan  2023           7.4            7.9   \n",
       "3  PT0000003   40    Male             UK  2015           1.7            2.9   \n",
       "4  PT0000004   43  Female         Brazil  2017           5.1            2.8   \n",
       "\n",
       "   Alcohol_Use  Smoking  Obesity_Level Cancer_Type Cancer_Stage  \\\n",
       "0          9.5      0.9            8.7        Lung    Stage III   \n",
       "1          3.7      3.9            6.3    Leukemia      Stage 0   \n",
       "2          2.4      4.7            0.1      Breast     Stage II   \n",
       "3          4.8      3.5            2.7       Colon      Stage I   \n",
       "4          2.3      6.7            0.5        Skin    Stage III   \n",
       "\n",
       "   Treatment_Cost_USD  Survival_Years  Target_Severity_Score Age_Group  \n",
       "0            62913.44             5.9                   4.92  Above 70  \n",
       "1            12573.41             4.7                   4.65   30 - 50  \n",
       "2             6984.33             7.1                   5.84  Above 70  \n",
       "3            67446.25             1.6                   3.12   30 - 50  \n",
       "4            77977.12             2.9                   3.62   30 - 50  "
      ]
     },
     "execution_count": 33,
     "metadata": {},
     "output_type": "execute_result"
    }
   ],
   "source": [
    "df.head()"
   ]
  },
  {
   "cell_type": "code",
   "execution_count": null,
   "id": "287be417",
   "metadata": {},
   "outputs": [
    {
     "name": "stdout",
     "output_type": "stream",
     "text": [
      "625 have lung cancer in Canada\n",
      "574 have lung cancer in Pakistan\n"
     ]
    }
   ],
   "source": [
    "# Lung cancer type in canada and pakistan\n",
    "# lung cancer is the most expensive cancer type, canada had the least cases but pakistan spent the least\n",
    "mask_canada = (df['Country_Region'] == 'Canada') & (df['Cancer_Type'] == 'Lung')\n",
    "df_canada = df[mask_canada]\n",
    "print(f\"{df_canada.shape[0]} have lung cancer in Canada\")\n",
    "\n",
    "mask_pakistan = (df['Country_Region'] == 'Pakistan') & (df['Cancer_Type'] == 'Lung')\n",
    "df_pakistan = df[mask_pakistan]\n",
    "print(f\"{df_pakistan.shape[0]} have lung cancer in Pakistan\")"
   ]
  },
  {
   "cell_type": "code",
   "execution_count": 39,
   "id": "a91b3fc5",
   "metadata": {},
   "outputs": [
    {
     "name": "stdout",
     "output_type": "stream",
     "text": [
      "943 have Stage III cancer in Canada\n",
      "1017 have Stage III cancer in Pakistan\n"
     ]
    }
   ],
   "source": [
    "# Lung cancer stages in canada and pakistan\n",
    "# lung cancer is the most expensive cancer type, canada had the least cases but pakistan spent the least\n",
    "mask_canada = (df['Country_Region'] == 'Canada') & (df['Cancer_Stage'] == 'Stage III')\n",
    "df_canada = df[mask_canada]\n",
    "print(f\"{df_canada.shape[0]} have Stage III cancer in Canada\")\n",
    "\n",
    "mask_pakistan = (df['Country_Region'] == 'Pakistan') & (df['Cancer_Stage'] == 'Stage III')\n",
    "df_pakistan = df[mask_pakistan]\n",
    "print(f\"{df_pakistan.shape[0]} have Stage III cancer in Pakistan\")"
   ]
  }
 ],
 "metadata": {
  "kernelspec": {
   "display_name": "base",
   "language": "python",
   "name": "python3"
  },
  "language_info": {
   "codemirror_mode": {
    "name": "ipython",
    "version": 3
   },
   "file_extension": ".py",
   "mimetype": "text/x-python",
   "name": "python",
   "nbconvert_exporter": "python",
   "pygments_lexer": "ipython3",
   "version": "3.13.5"
  }
 },
 "nbformat": 4,
 "nbformat_minor": 5
}
